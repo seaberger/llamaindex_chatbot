{
 "cells": [
  {
   "cell_type": "code",
   "execution_count": 1,
   "id": "aec56e58-84cd-493e-af1c-dee27f6ee159",
   "metadata": {},
   "outputs": [],
   "source": [
    "# Access the API through environment variable\n",
    "import os\n",
    "#from dotenv import load_dotenv\n",
    "#load_dotenv()\n",
    "\n",
    "openai_api_key = os.getenv('OPENAI_API_KEY')"
   ]
  },
  {
   "cell_type": "code",
   "execution_count": 2,
   "id": "07a15bae-b363-4f0f-9500-86bd36c370d0",
   "metadata": {},
   "outputs": [],
   "source": [
    "import nest_asyncio\n",
    "nest_asyncio.apply()"
   ]
  },
  {
   "cell_type": "code",
   "execution_count": 3,
   "id": "0438e7e0-695f-44c0-9298-201790f8b9cb",
   "metadata": {},
   "outputs": [],
   "source": [
    "import logging\n",
    "import sys\n",
    "\n",
    "logging.basicConfig(stream=sys.stdout, level=logging.INFO)\n",
    "logging.getLogger().addHandler(logging.StreamHandler(stream=sys.stdout))\n",
    "\n",
    "from llama_index.core import VectorStoreIndex, SQLDatabase\n",
    "from llama_index.readers.wikipedia import WikipediaReader"
   ]
  },
  {
   "cell_type": "code",
   "execution_count": 4,
   "id": "e317b6c2-57cf-4551-8ecc-cedfd25c6e4e",
   "metadata": {},
   "outputs": [],
   "source": [
    "from sqlalchemy import (\n",
    "    create_engine,\n",
    "    MetaData,\n",
    "    ForeignKey,\n",
    "    Table,\n",
    "    Column,\n",
    "    String,\n",
    "    Integer,\n",
    "    select,\n",
    "    column,\n",
    ")\n",
    "\n",
    "from sqlalchemy.orm import declarative_base, relationship"
   ]
  },
  {
   "cell_type": "code",
   "execution_count": 5,
   "id": "6113d6e0-4f7d-4e49-aebe-8e2e4fd91000",
   "metadata": {},
   "outputs": [],
   "source": [
    "engine = create_engine(\"sqlite:///:memory:\", future=True)\n",
    "metadata_obj = MetaData()"
   ]
  },
  {
   "cell_type": "code",
   "execution_count": 6,
   "id": "2da1d0e5-a99a-4d48-8977-d3438478f982",
   "metadata": {},
   "outputs": [],
   "source": [
    "# create city SQL table\n",
    "table_name = \"product\"\n",
    "product_table = Table(\n",
    "    table_name,\n",
    "    metadata_obj,\n",
    "    Column(\"sku\", Integer, primary_key=True),\n",
    "    Column(\"name\", String(100), nullable=False),\n",
    "    Column(\"product_category\", String(30), nullable=False),\n",
    "    Column(\"measurement_type\", String(50), nullable=False),\n",
    "    Column(\"cable_type\", String(30), nullable=False),\n",
    "    extend_existing=True,\n",
    ")\n",
    "\n",
    "table_name = \"specs\"\n",
    "specs_table = Table(\n",
    "    table_name,\n",
    "    metadata_obj,\n",
    "    Column(\"id\", Integer, primary_key=True),  # Auto-incrementing ID\n",
    "    Column(\"sku\", Integer, ForeignKey(\"product.sku\")),\n",
    "    Column(\"spec_value\", String(200)),\n",
    "    Column(\"spec_name\", String(200)),\n",
    "    extend_existing=True,\n",
    ")\n",
    "\n",
    "metadata_obj.create_all(engine)"
   ]
  },
  {
   "cell_type": "code",
   "execution_count": 7,
   "id": "1a4d75cf-6ec1-43af-81ae-e3a1fb002e5f",
   "metadata": {},
   "outputs": [
    {
     "data": {
      "text/plain": [
       "dict_keys(['product', 'specs'])"
      ]
     },
     "execution_count": 7,
     "metadata": {},
     "output_type": "execute_result"
    }
   ],
   "source": [
    "# print tables\n",
    "metadata_obj.tables.keys()"
   ]
  },
  {
   "cell_type": "code",
   "execution_count": 8,
   "id": "c516811d-77b7-4e54-b152-c600288b9133",
   "metadata": {},
   "outputs": [
    {
     "name": "stdout",
     "output_type": "stream",
     "text": [
      "Data loaded into the database successfully.\n"
     ]
    }
   ],
   "source": [
    "import pandas as pd\n",
    "from sqlalchemy import create_engine\n",
    "from pathlib import Path\n",
    "\n",
    "# Assuming 'engine' is already created and connected to your in-memory SQLite database\n",
    "\n",
    "# Define the paths to your Excel files\n",
    "base_path = Path('lmc_specs')  # Adjust this if your notebook's working directory is different\n",
    "product_table_path = base_path / 'product_table.xlsx'\n",
    "spec_table_path = base_path / 'spec_table.xlsx'\n",
    "\n",
    "# Read the Excel files into DataFrames\n",
    "product_df = pd.read_excel(product_table_path)\n",
    "spec_df = pd.read_excel(spec_table_path)\n",
    "\n",
    "# Load the DataFrames into the corresponding tables in the database\n",
    "# If the tables already exist, append the data. Ensure you're using the same 'engine' as before\n",
    "product_df.to_sql('product', con=engine, if_exists='append', index=False, method='multi')\n",
    "spec_df.to_sql('specs', con=engine, if_exists='append', index=False, method='multi')\n",
    "\n",
    "print(\"Data loaded into the database successfully.\")\n"
   ]
  },
  {
   "cell_type": "code",
   "execution_count": 9,
   "id": "592f09e0-e5dc-42c0-bdf2-fcaf9c59366e",
   "metadata": {},
   "outputs": [],
   "source": [
    "sql_database = SQLDatabase(engine, include_tables=[\"product\", \"specs\"])"
   ]
  },
  {
   "cell_type": "code",
   "execution_count": 10,
   "id": "f275de8f-25bc-4855-83af-14cf9e8be094",
   "metadata": {},
   "outputs": [],
   "source": [
    "from llama_index.core.query_engine import NLSQLTableQueryEngine"
   ]
  },
  {
   "cell_type": "code",
   "execution_count": 11,
   "id": "1b36560a-997f-4a04-9397-c76e373a1d61",
   "metadata": {},
   "outputs": [],
   "source": [
    "from llama_index.llms.openai import OpenAI\n",
    "llm = OpenAI(temperature=0.1, model=\"gpt-3.5-turbo\")"
   ]
  },
  {
   "cell_type": "code",
   "execution_count": 12,
   "id": "8be662dd-8f3c-4750-9140-34ddd4aab429",
   "metadata": {},
   "outputs": [],
   "source": [
    "sql_query_engine = NLSQLTableQueryEngine(\n",
    "    sql_database=sql_database,\n",
    "    tables=[\"product\", \"specs\"],\n",
    "    llm=llm\n",
    ")"
   ]
  },
  {
   "cell_type": "code",
   "execution_count": 14,
   "id": "c7190d94-b92f-4aed-9924-0bfa823866a5",
   "metadata": {},
   "outputs": [
    {
     "name": "stdout",
     "output_type": "stream",
     "text": [
      "INFO:llama_index.core.indices.struct_store.sql_retriever:> Table desc str: Table 'product' has columns: sku (INTEGER), name (VARCHAR(100)), product_category (VARCHAR(30)), measurement_type (VARCHAR(50)), cable_type (VARCHAR(30)), and foreign keys: .\n",
      "\n",
      "Table 'specs' has columns: id (INTEGER), sku (INTEGER), spec_value (VARCHAR(200)), spec_name (VARCHAR(200)), and foreign keys: ['sku'] -> product.['sku'].\n",
      "> Table desc str: Table 'product' has columns: sku (INTEGER), name (VARCHAR(100)), product_category (VARCHAR(30)), measurement_type (VARCHAR(50)), cable_type (VARCHAR(30)), and foreign keys: .\n",
      "\n",
      "Table 'specs' has columns: id (INTEGER), sku (INTEGER), spec_value (VARCHAR(200)), spec_name (VARCHAR(200)), and foreign keys: ['sku'] -> product.['sku'].\n",
      "INFO:httpx:HTTP Request: POST https://api.openai.com/v1/chat/completions \"HTTP/1.1 200 OK\"\n",
      "HTTP Request: POST https://api.openai.com/v1/chat/completions \"HTTP/1.1 200 OK\"\n",
      "INFO:httpx:HTTP Request: POST https://api.openai.com/v1/chat/completions \"HTTP/1.1 200 OK\"\n",
      "HTTP Request: POST https://api.openai.com/v1/chat/completions \"HTTP/1.1 200 OK\"\n"
     ]
    }
   ],
   "source": [
    "query_str = \"What are the specs for a PM10?\"\n",
    "response = sql_query_engine.query(query_str)"
   ]
  },
  {
   "cell_type": "code",
   "execution_count": 15,
   "id": "e68cef5c-4a84-49d5-a49d-9dd789b7866c",
   "metadata": {},
   "outputs": [
    {
     "data": {
      "text/markdown": [
       "The specs for a PM10 laser include a maximum energy density of 600 millijoules per square centimeter, a minimum wavelength of 250 nanometers, a maximum wavelength of 11000 nanometers, a minimum power of 0.01 watts, a maximum power of 10 watts, and a cooling type of air. Other specifications include a wavelength range of 0.25 to 11 micrometers, a power range of 10 milliwatts to 10 watts, and a maximum intermittent power of 30 watts for less than 5 minutes. The PM10 also has a resolution of 1 milliwatt, a maximum power density of 6 kilowatts per square centimeter, and a detector coating of broadband. Additionally, it has a calibration uncertainty of ±1%, power linearity of ±1%, and spectral compensation accuracy of ±1.5%. The PM10 is compatible with meters such as LabMax-Pro SSIM, LabMax Touch, LabMax Touch Pro, and FieldMaxII-TOP."
      ],
      "text/plain": [
       "<IPython.core.display.Markdown object>"
      ]
     },
     "metadata": {},
     "output_type": "display_data"
    }
   ],
   "source": [
    "from IPython.display import Markdown, display\n",
    "display(Markdown(f\"{response}\"))"
   ]
  },
  {
   "cell_type": "markdown",
   "id": "b8d8b301-2ef2-4f72-a3d3-43774e517788",
   "metadata": {},
   "source": [
    "## Generate pdf doc vector index using Llamaparse"
   ]
  },
  {
   "cell_type": "code",
   "execution_count": null,
   "id": "090ae10c-39fe-47c1-80d5-df7227bdd63a",
   "metadata": {},
   "outputs": [],
   "source": [
    "# Uncomment if you are in a Jupyter Notebook\n",
    "import nest_asyncio\n",
    "import os\n",
    "nest_asyncio.apply()\n",
    "\n",
    "from llama_parse import LlamaParse\n",
    "from llama_index.core import SimpleDirectoryReader\n",
    "\n",
    "parser = LlamaParse(\n",
    "    api_key=os.getenv('LLAMA_CLOUD_API_KEY'),  # can also be set in your env as LLAMA_CLOUD_API_KEY\n",
    "    result_type=\"markdown\"  # \"markdown\" and \"text\" are available\n",
    ")\n",
    "\n",
    "file_extractor = {\".pdf\": parser}\n",
    "reader = SimpleDirectoryReader(\"./lmc_docs\", file_extractor=file_extractor)\n",
    "documents = reader.load_data()"
   ]
  },
  {
   "cell_type": "code",
   "execution_count": 17,
   "id": "b0540bf9-dc8c-4421-b6c4-0060be4004d5",
   "metadata": {},
   "outputs": [],
   "source": [
    "from llama_index.core.node_parser import MarkdownElementNodeParser"
   ]
  },
  {
   "cell_type": "code",
   "execution_count": 18,
   "id": "27eb974f-bdcf-4405-bd7f-84e8384804cf",
   "metadata": {},
   "outputs": [],
   "source": [
    "#Splits a markdown document into Text Nodes and Index Nodes corresponding to embedded objects (e.g. tables).\n",
    "node_parser = MarkdownElementNodeParser(llm=OpenAI(model=\"gpt-3.5-turbo-0125\"))"
   ]
  },
  {
   "cell_type": "code",
   "execution_count": null,
   "id": "2bf97f33-ff38-4d31-95fd-10414e3e912b",
   "metadata": {},
   "outputs": [],
   "source": [
    "nodes = node_parser.get_nodes_from_documents(documents)"
   ]
  },
  {
   "cell_type": "code",
   "execution_count": 20,
   "id": "7312e96d-4314-4d37-9085-c4cc63ce285f",
   "metadata": {},
   "outputs": [],
   "source": [
    "base_nodes, objects = node_parser.get_nodes_and_objects(nodes)"
   ]
  },
  {
   "cell_type": "code",
   "execution_count": 21,
   "id": "2ba44b4b-64fa-4726-8acc-023e7f10c995",
   "metadata": {},
   "outputs": [
    {
     "name": "stdout",
     "output_type": "stream",
     "text": [
      "INFO:httpx:HTTP Request: POST https://api.openai.com/v1/embeddings \"HTTP/1.1 200 OK\"\n",
      "HTTP Request: POST https://api.openai.com/v1/embeddings \"HTTP/1.1 200 OK\"\n"
     ]
    }
   ],
   "source": [
    "recursive_index = VectorStoreIndex(nodes=base_nodes+objects)"
   ]
  },
  {
   "cell_type": "code",
   "execution_count": 22,
   "id": "97476ef5-666e-4d8b-94c3-ed506abbb915",
   "metadata": {},
   "outputs": [],
   "source": [
    "import os.path\n",
    "from llama_index.core import (\n",
    "    VectorStoreIndex,\n",
    "    SimpleDirectoryReader,\n",
    "    StorageContext,\n",
    "    load_index_from_storage,\n",
    ")\n",
    "persist_dir = \"./lmc_data\"\n",
    "\n",
    "# store index for later\n",
    "recursive_index.storage_context.persist(persist_dir=persist_dir)"
   ]
  },
  {
   "cell_type": "code",
   "execution_count": null,
   "id": "f228f004-a736-432d-a097-31eaf4acb145",
   "metadata": {},
   "outputs": [],
   "source": [
    "# load the index\n",
    "storage_context = StorageContext.from_defaults(persist_dir=persist_dir)\n",
    "\n",
    "recursive_index = load_index_from_storage(storage_context)"
   ]
  },
  {
   "cell_type": "code",
   "execution_count": 24,
   "id": "6fb411a0-effe-44ba-9216-486515c906a0",
   "metadata": {},
   "outputs": [
    {
     "name": "stdout",
     "output_type": "stream",
     "text": [
      "INFO:datasets:PyTorch version 2.1.0 available.\n",
      "PyTorch version 2.1.0 available.\n"
     ]
    },
    {
     "data": {
      "application/vnd.jupyter.widget-view+json": {
       "model_id": "5db55a01392843fdbbb64f194c37941b",
       "version_major": 2,
       "version_minor": 0
      },
      "text/plain": [
       "tokenizer_config.json:   0%|          | 0.00/443 [00:00<?, ?B/s]"
      ]
     },
     "metadata": {},
     "output_type": "display_data"
    },
    {
     "data": {
      "application/vnd.jupyter.widget-view+json": {
       "model_id": "0792a83c841443189386c51591c36368",
       "version_major": 2,
       "version_minor": 0
      },
      "text/plain": [
       "sentencepiece.bpe.model:   0%|          | 0.00/5.07M [00:00<?, ?B/s]"
      ]
     },
     "metadata": {},
     "output_type": "display_data"
    },
    {
     "data": {
      "application/vnd.jupyter.widget-view+json": {
       "model_id": "3f63e154df8e404cad18340ae9523a9d",
       "version_major": 2,
       "version_minor": 0
      },
      "text/plain": [
       "tokenizer.json:   0%|          | 0.00/17.1M [00:00<?, ?B/s]"
      ]
     },
     "metadata": {},
     "output_type": "display_data"
    },
    {
     "data": {
      "application/vnd.jupyter.widget-view+json": {
       "model_id": "b4440b29b3c14b38a445961f766f686b",
       "version_major": 2,
       "version_minor": 0
      },
      "text/plain": [
       "special_tokens_map.json:   0%|          | 0.00/279 [00:00<?, ?B/s]"
      ]
     },
     "metadata": {},
     "output_type": "display_data"
    },
    {
     "data": {
      "application/vnd.jupyter.widget-view+json": {
       "model_id": "a8a00a9a94564b3ab8ee86c301b7044d",
       "version_major": 2,
       "version_minor": 0
      },
      "text/plain": [
       "config.json:   0%|          | 0.00/801 [00:00<?, ?B/s]"
      ]
     },
     "metadata": {},
     "output_type": "display_data"
    },
    {
     "data": {
      "application/vnd.jupyter.widget-view+json": {
       "model_id": "5ef7e95d25904cde90bf4936507afdea",
       "version_major": 2,
       "version_minor": 0
      },
      "text/plain": [
       "model.safetensors:   0%|          | 0.00/2.24G [00:00<?, ?B/s]"
      ]
     },
     "metadata": {},
     "output_type": "display_data"
    }
   ],
   "source": [
    "from llama_index.postprocessor.flag_embedding_reranker import FlagEmbeddingReranker\n",
    "\n",
    "reranker = FlagEmbeddingReranker(\n",
    "    top_n=5,\n",
    "    model=\"BAAI/bge-reranker-large\",\n",
    ")\n",
    "\n",
    "recursive_query_engine = recursive_index.as_query_engine(\n",
    "    similarity_top_k=15, \n",
    "    node_postprocessors=[reranker], \n",
    "    verbose=True\n",
    ")"
   ]
  },
  {
   "cell_type": "markdown",
   "id": "e9d7824b-8588-4cc3-a6ae-b1886bbe85f0",
   "metadata": {},
   "source": [
    "## Define Query Engines, Set as Tools"
   ]
  },
  {
   "cell_type": "code",
   "execution_count": 46,
   "id": "89bddabd-b175-4ce5-a157-fd9a52956487",
   "metadata": {},
   "outputs": [],
   "source": [
    "from llama_index.core.tools import QueryEngineTool\n",
    "\n",
    "\n",
    "sql_tool = QueryEngineTool.from_defaults(\n",
    "    query_engine=sql_query_engine,\n",
    "    description=(\n",
    "        \"Useful for translating a natural language query into a SQL query over\"\n",
    "        \" a table containing: sku or part number, product name, spec_value, spec_name, cable_type,\"\n",
    "        \" product_category, and measurement_category for laser measurement products.\"\n",
    "        \"Query this table for power sensor and energy sensor specs\"\n",
    "        \"Whenever needing to select a product.\"\n",
    "    ),\n",
    ")\n",
    "\n",
    "vector_tool = QueryEngineTool.from_defaults(\n",
    "    query_engine=recursive_query_engine,\n",
    "    description=(\n",
    "        \"Useful for answering semantic questions about laser measurement\"\n",
    "        \" and general information about selecting laser measurement products.\"\n",
    "        \" This tool does not contain detailed product specs. Use the sql_tool\"\n",
    "        \"to find specificiations for energy sensor, power sensor,\"\n",
    "        \"and beam diagnostics product selection.\"\n",
    "    ),\n",
    ")"
   ]
  },
  {
   "cell_type": "markdown",
   "id": "a8137d93-22ef-4bd6-9b84-99055e50e41d",
   "metadata": {},
   "source": [
    "## Define Router Query Engine"
   ]
  },
  {
   "cell_type": "code",
   "execution_count": 47,
   "id": "5e59001a-da3c-4c8a-bcaf-6fddfe2fa00e",
   "metadata": {},
   "outputs": [],
   "source": [
    "from llama_index.core.query_engine import RouterQueryEngine\n",
    "from llama_index.core.selectors import LLMSingleSelector\n",
    "\n",
    "query_engine = RouterQueryEngine(\n",
    "    selector=LLMSingleSelector.from_defaults(),\n",
    "    query_engine_tools=[\n",
    "        sql_tool,\n",
    "        vector_tool,\n",
    "    ],\n",
    ")"
   ]
  },
  {
   "cell_type": "code",
   "execution_count": 48,
   "id": "14567782-3918-4929-ae4e-439c72bf94a6",
   "metadata": {},
   "outputs": [],
   "source": [
    "from llama_index.core.query_engine import RouterQueryEngine\n",
    "from llama_index.core.selectors import LLMSingleSelector, LLMMultiSelector\n",
    "from llama_index.core.selectors import (\n",
    "    PydanticMultiSelector,\n",
    "    PydanticSingleSelector,\n",
    ")\n",
    "\n",
    "query_engine = RouterQueryEngine(\n",
    "    selector=PydanticSingleSelector.from_defaults(),\n",
    "    query_engine_tools=[\n",
    "        sql_tool,\n",
    "        vector_tool,\n",
    "    ],\n",
    ")"
   ]
  },
  {
   "cell_type": "code",
   "execution_count": 42,
   "id": "c9cdb0ef-6bd4-422d-b0e2-dcafbbc687e0",
   "metadata": {},
   "outputs": [
    {
     "name": "stdout",
     "output_type": "stream",
     "text": [
      "INFO:httpx:HTTP Request: POST https://api.openai.com/v1/chat/completions \"HTTP/1.1 200 OK\"\n",
      "HTTP Request: POST https://api.openai.com/v1/chat/completions \"HTTP/1.1 200 OK\"\n",
      "INFO:llama_index.core.query_engine.router_query_engine:Selecting query engine 1: The choice (2) is most relevant as it specifically mentions selecting a laser power sensor among other related items for laser measurement..\n",
      "Selecting query engine 1: The choice (2) is most relevant as it specifically mentions selecting a laser power sensor among other related items for laser measurement..\n",
      "INFO:httpx:HTTP Request: POST https://api.openai.com/v1/embeddings \"HTTP/1.1 200 OK\"\n",
      "HTTP Request: POST https://api.openai.com/v1/embeddings \"HTTP/1.1 200 OK\"\n",
      "\u001b[1;3;38;2;11;159;203mRetrieval entering id_6733a882-f8f3-4b67-819f-bae064693963_6_table: TextNode\n",
      "\u001b[0m\u001b[1;3;38;2;237;90;200mRetrieving from object TextNode with query How do I select a power sensor?\n",
      "\u001b[0m\u001b[1;3;38;2;11;159;203mRetrieval entering id_ae33e4dc-17de-467f-bc56-a9dd6b4fff0f_14_table: TextNode\n",
      "\u001b[0m\u001b[1;3;38;2;237;90;200mRetrieving from object TextNode with query How do I select a power sensor?\n",
      "\u001b[0m\u001b[1;3;38;2;11;159;203mRetrieval entering id_ae33e4dc-17de-467f-bc56-a9dd6b4fff0f_4_table: TextNode\n",
      "\u001b[0m\u001b[1;3;38;2;237;90;200mRetrieving from object TextNode with query How do I select a power sensor?\n",
      "\u001b[0m\u001b[1;3;38;2;11;159;203mRetrieval entering id_e76c6653-076f-470e-8b6d-3e4f583243d3_10_table: TextNode\n",
      "\u001b[0m\u001b[1;3;38;2;237;90;200mRetrieving from object TextNode with query How do I select a power sensor?\n",
      "\u001b[0m\u001b[1;3;38;2;11;159;203mRetrieval entering id_e76c6653-076f-470e-8b6d-3e4f583243d3_16_table: TextNode\n",
      "\u001b[0m\u001b[1;3;38;2;237;90;200mRetrieving from object TextNode with query How do I select a power sensor?\n",
      "\u001b[0mINFO:httpx:HTTP Request: POST https://api.openai.com/v1/chat/completions \"HTTP/1.1 200 OK\"\n",
      "HTTP Request: POST https://api.openai.com/v1/chat/completions \"HTTP/1.1 200 OK\"\n",
      "Selecting a power sensor involves considering factors such as the laser power levels it can handle, the measurement speed required, the active area size, the spectral range it covers, the available interfaces for connectivity, and the sensor's damage threshold. Additionally, factors like beam diameter, power range, power density, and measurement duration should be taken into account to ensure accurate and reliable power measurements.\n"
     ]
    }
   ],
   "source": [
    "response = query_engine.query(\"How do I select a power sensor?\")\n",
    "print(str(response))"
   ]
  },
  {
   "cell_type": "code",
   "execution_count": 43,
   "id": "42087df7-b61d-4b1b-985f-0bc8ca61206c",
   "metadata": {},
   "outputs": [
    {
     "name": "stdout",
     "output_type": "stream",
     "text": [
      "INFO:httpx:HTTP Request: POST https://api.openai.com/v1/chat/completions \"HTTP/1.1 200 OK\"\n",
      "HTTP Request: POST https://api.openai.com/v1/chat/completions \"HTTP/1.1 200 OK\"\n",
      "INFO:llama_index.core.query_engine.router_query_engine:Selecting query engine 1: The choice is relevant as it specifically mentions selecting a laser power sensor, which is what is needed to measure the power of a 5W laser..\n",
      "Selecting query engine 1: The choice is relevant as it specifically mentions selecting a laser power sensor, which is what is needed to measure the power of a 5W laser..\n",
      "INFO:httpx:HTTP Request: POST https://api.openai.com/v1/embeddings \"HTTP/1.1 200 OK\"\n",
      "HTTP Request: POST https://api.openai.com/v1/embeddings \"HTTP/1.1 200 OK\"\n",
      "\u001b[1;3;38;2;11;159;203mRetrieval entering id_6733a882-f8f3-4b67-819f-bae064693963_6_table: TextNode\n",
      "\u001b[0m\u001b[1;3;38;2;237;90;200mRetrieving from object TextNode with query What are several good power sensor options to measure a 5W laser with 10mm beam diameter?\n",
      "\u001b[0m\u001b[1;3;38;2;11;159;203mRetrieval entering id_ae33e4dc-17de-467f-bc56-a9dd6b4fff0f_14_table: TextNode\n",
      "\u001b[0m\u001b[1;3;38;2;237;90;200mRetrieving from object TextNode with query What are several good power sensor options to measure a 5W laser with 10mm beam diameter?\n",
      "\u001b[0m\u001b[1;3;38;2;11;159;203mRetrieval entering id_6733a882-f8f3-4b67-819f-bae064693963_34_table: TextNode\n",
      "\u001b[0m\u001b[1;3;38;2;237;90;200mRetrieving from object TextNode with query What are several good power sensor options to measure a 5W laser with 10mm beam diameter?\n",
      "\u001b[0mINFO:httpx:HTTP Request: POST https://api.openai.com/v1/chat/completions \"HTTP/1.1 200 OK\"\n",
      "HTTP Request: POST https://api.openai.com/v1/chat/completions \"HTTP/1.1 200 OK\"\n",
      "Several good power sensor options to measure a 5W laser with a 10mm beam diameter could include the OP-2 Optical Power Sensors with measurement ranges suitable for power levels from 5 µW to >100 mW, aperture sizes of 8 mm to 10 mm, and wavelength ranges from 325 to 1064 nm. Additionally, the LabMax-Pro SSIM or LabMax Touch models could be considered, which offer compatibility with various sensors and interfaces like USB, RS-232, and Epernet.\n"
     ]
    }
   ],
   "source": [
    "response = query_engine.query(\"What are several good power sensor options to measure a 5W laser with 10mm beam diameter?\")\n",
    "print(str(response))"
   ]
  },
  {
   "cell_type": "markdown",
   "id": "1337ce05-3c05-490b-8d04-2b16c7603971",
   "metadata": {},
   "source": [
    "## Pydantic Multi Selector"
   ]
  },
  {
   "cell_type": "code",
   "execution_count": 49,
   "id": "7128fd3d-4914-430e-b7c0-802d74d65582",
   "metadata": {},
   "outputs": [],
   "source": [
    "from llama_index.core.query_engine import RouterQueryEngine\n",
    "from llama_index.core.selectors import LLMSingleSelector, LLMMultiSelector\n",
    "from llama_index.core.selectors import (\n",
    "    PydanticMultiSelector,\n",
    "    PydanticSingleSelector,\n",
    ")\n",
    "\n",
    "multi_query_engine = RouterQueryEngine(\n",
    "    selector=PydanticMultiSelector.from_defaults(),\n",
    "    query_engine_tools=[\n",
    "        sql_tool,\n",
    "        vector_tool,\n",
    "    ],\n",
    ")"
   ]
  },
  {
   "cell_type": "code",
   "execution_count": 50,
   "id": "3b4cc912-d267-4419-9969-7c4ec975a913",
   "metadata": {},
   "outputs": [
    {
     "name": "stdout",
     "output_type": "stream",
     "text": [
      "INFO:httpx:HTTP Request: POST https://api.openai.com/v1/chat/completions \"HTTP/1.1 200 OK\"\n",
      "HTTP Request: POST https://api.openai.com/v1/chat/completions \"HTTP/1.1 200 OK\"\n",
      "INFO:llama_index.core.query_engine.router_query_engine:Selecting query engine 0: This choice is specifically focused on translating natural language queries into SQL queries for selecting laser measurement products, which includes power sensor and energy sensor specs. It mentions querying the table for power sensor and energy sensor specs, making it relevant to the question about power sensor options for measuring a 5W laser with a 10mm beam diameter..\n",
      "Selecting query engine 0: This choice is specifically focused on translating natural language queries into SQL queries for selecting laser measurement products, which includes power sensor and energy sensor specs. It mentions querying the table for power sensor and energy sensor specs, making it relevant to the question about power sensor options for measuring a 5W laser with a 10mm beam diameter..\n",
      "INFO:llama_index.core.indices.struct_store.sql_retriever:> Table desc str: Table 'product' has columns: sku (INTEGER), name (VARCHAR(100)), product_category (VARCHAR(30)), measurement_type (VARCHAR(50)), cable_type (VARCHAR(30)), and foreign keys: .\n",
      "\n",
      "Table 'specs' has columns: id (INTEGER), sku (INTEGER), spec_value (VARCHAR(200)), spec_name (VARCHAR(200)), and foreign keys: ['sku'] -> product.['sku'].\n",
      "> Table desc str: Table 'product' has columns: sku (INTEGER), name (VARCHAR(100)), product_category (VARCHAR(30)), measurement_type (VARCHAR(50)), cable_type (VARCHAR(30)), and foreign keys: .\n",
      "\n",
      "Table 'specs' has columns: id (INTEGER), sku (INTEGER), spec_value (VARCHAR(200)), spec_name (VARCHAR(200)), and foreign keys: ['sku'] -> product.['sku'].\n",
      "INFO:httpx:HTTP Request: POST https://api.openai.com/v1/chat/completions \"HTTP/1.1 200 OK\"\n",
      "HTTP Request: POST https://api.openai.com/v1/chat/completions \"HTTP/1.1 200 OK\"\n",
      "INFO:httpx:HTTP Request: POST https://api.openai.com/v1/chat/completions \"HTTP/1.1 200 OK\"\n",
      "HTTP Request: POST https://api.openai.com/v1/chat/completions \"HTTP/1.1 200 OK\"\n",
      "Based on the query results, it appears that there are no specific power sensor options that match the criteria of measuring a 5W laser with a 10mm beam diameter. It may be necessary to broaden the search criteria or consider other options for power sensors that can accommodate these specifications.\n"
     ]
    }
   ],
   "source": [
    "response = multi_query_engine.query(\"What are several good power sensor options to measure a 5W laser with 10mm beam diameter?\")\n",
    "print(str(response))"
   ]
  },
  {
   "cell_type": "code",
   "execution_count": null,
   "id": "efa9045b-5255-49fd-b112-26226f995a1f",
   "metadata": {},
   "outputs": [],
   "source": []
  }
 ],
 "metadata": {
  "kernelspec": {
   "display_name": "Python 3 (ipykernel)",
   "language": "python",
   "name": "python3"
  },
  "language_info": {
   "codemirror_mode": {
    "name": "ipython",
    "version": 3
   },
   "file_extension": ".py",
   "mimetype": "text/x-python",
   "name": "python",
   "nbconvert_exporter": "python",
   "pygments_lexer": "ipython3",
   "version": "3.10.14"
  }
 },
 "nbformat": 4,
 "nbformat_minor": 5
}
