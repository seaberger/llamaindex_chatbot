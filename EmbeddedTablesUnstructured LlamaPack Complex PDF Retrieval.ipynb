{
 "cells": [
  {
   "cell_type": "code",
   "execution_count": 1,
   "id": "4ff733c3-f5df-483c-be39-43ddcbcfac1b",
   "metadata": {},
   "outputs": [],
   "source": [
    "from dotenv import load_dotenv\n",
    "load_dotenv()\n",
    "\n",
    "# Now you can access the environment variable\n",
    "import os\n",
    "openai_api_key = os.getenv('OPENAI_API_KEY')"
   ]
  },
  {
   "cell_type": "code",
   "execution_count": 6,
   "id": "fd6f62fd-5916-4b52-8f77-3b70f41fe878",
   "metadata": {},
   "outputs": [],
   "source": [
    "import nest_asyncio\n",
    "\n",
    "nest_asyncio.apply()"
   ]
  },
  {
   "cell_type": "code",
   "execution_count": 7,
   "id": "8d611543-829b-4598-b788-a5d927fd57b0",
   "metadata": {},
   "outputs": [
    {
     "ename": "ModuleNotFoundError",
     "evalue": "No module named 'llama_index.llama_pack'",
     "output_type": "error",
     "traceback": [
      "\u001b[0;31m---------------------------------------------------------------------------\u001b[0m",
      "\u001b[0;31mModuleNotFoundError\u001b[0m                       Traceback (most recent call last)",
      "Cell \u001b[0;32mIn[7], line 1\u001b[0m\n\u001b[0;32m----> 1\u001b[0m \u001b[38;5;28;01mfrom\u001b[39;00m \u001b[38;5;21;01mllama_index\u001b[39;00m\u001b[38;5;21;01m.\u001b[39;00m\u001b[38;5;21;01mllama_pack\u001b[39;00m \u001b[38;5;28;01mimport\u001b[39;00m download_llama_pack\n\u001b[1;32m      3\u001b[0m EmbeddedTablesUnstructuredRetrieverPack \u001b[38;5;241m=\u001b[39m download_llama_pack(\n\u001b[1;32m      4\u001b[0m     \u001b[38;5;124m\"\u001b[39m\u001b[38;5;124mEmbeddedTablesUnstructuredRetrieverPack\u001b[39m\u001b[38;5;124m\"\u001b[39m,\n\u001b[1;32m      5\u001b[0m     \u001b[38;5;124m\"\u001b[39m\u001b[38;5;124m./embedded_tables_unstructured_pack\u001b[39m\u001b[38;5;124m\"\u001b[39m,\n\u001b[1;32m      6\u001b[0m     \u001b[38;5;66;03m# leave the below commented out (was for testing purposes)\u001b[39;00m\n\u001b[1;32m      7\u001b[0m     \u001b[38;5;66;03m# llama_hub_url=\"https://raw.githubusercontent.com/run-llama/llama-hub/jerry/add_llama_packs/llama_hub\",\u001b[39;00m\n\u001b[1;32m      8\u001b[0m )\n",
      "\u001b[0;31mModuleNotFoundError\u001b[0m: No module named 'llama_index.llama_pack'"
     ]
    }
   ],
   "source": [
    "from llama_index.llama_pack import download_llama_pack\n",
    "\n",
    "EmbeddedTablesUnstructuredRetrieverPack = download_llama_pack(\n",
    "    \"EmbeddedTablesUnstructuredRetrieverPack\",\n",
    "    \"./embedded_tables_unstructured_pack\",\n",
    "    # leave the below commented out (was for testing purposes)\n",
    "    # llama_hub_url=\"https://raw.githubusercontent.com/run-llama/llama-hub/jerry/add_llama_packs/llama_hub\",\n",
    ")"
   ]
  },
  {
   "cell_type": "code",
   "execution_count": 10,
   "id": "d0b813b4-a189-466c-b59a-977da8aae098",
   "metadata": {},
   "outputs": [
    {
     "name": "stderr",
     "output_type": "stream",
     "text": [
      "Preprocessing: 52/52\n",
      "Working: 52/52\n",
      "\n"
     ]
    }
   ],
   "source": [
    "import subprocess\n",
    "\n",
    "def convert_pdf_to_html(pdf_path, html_path):\n",
    "    command = f\"pdf2htmlEX {pdf_path} --dest-dir {html_path}\"\n",
    "    subprocess.call(command, shell=True)\n",
    "\n",
    "input_pdf = \"quarterly-nvidia.pdf\"\n",
    "output_pdf = \"quarterly-nvidia\"\n",
    "\n",
    "convert_pdf_to_html(input_pdf, output_pdf)"
   ]
  },
  {
   "cell_type": "code",
   "execution_count": 12,
   "id": "b2b8b212-a74f-4a85-a668-68cff6096a0b",
   "metadata": {},
   "outputs": [
    {
     "ename": "ModuleNotFoundError",
     "evalue": "No module named 'llama_index.packs.embedded_tables_unstructured_retriever'",
     "output_type": "error",
     "traceback": [
      "\u001b[0;31m---------------------------------------------------------------------------\u001b[0m",
      "\u001b[0;31mModuleNotFoundError\u001b[0m                       Traceback (most recent call last)",
      "Cell \u001b[0;32mIn[12], line 1\u001b[0m\n\u001b[0;32m----> 1\u001b[0m \u001b[38;5;28;01mfrom\u001b[39;00m \u001b[38;5;21;01mllama_index\u001b[39;00m\u001b[38;5;21;01m.\u001b[39;00m\u001b[38;5;21;01mpacks\u001b[39;00m\u001b[38;5;21;01m.\u001b[39;00m\u001b[38;5;21;01membedded_tables_unstructured_retriever\u001b[39;00m \u001b[38;5;28;01mimport\u001b[39;00m EmbeddedTablesUnstructuredRetrieverPack\n",
      "\u001b[0;31mModuleNotFoundError\u001b[0m: No module named 'llama_index.packs.embedded_tables_unstructured_retriever'"
     ]
    }
   ],
   "source": [
    "from llama_index.packs.embedded_tables_unstructured_retriever import EmbeddedTablesUnstructuredRetrieverPack"
   ]
  },
  {
   "cell_type": "code",
   "execution_count": 11,
   "id": "8b177b4a-ab7b-4b1d-9ca4-b679aec213d8",
   "metadata": {},
   "outputs": [
    {
     "ename": "NameError",
     "evalue": "name 'EmbeddedTablesUnstructuredRetrieverPack' is not defined",
     "output_type": "error",
     "traceback": [
      "\u001b[0;31m---------------------------------------------------------------------------\u001b[0m",
      "\u001b[0;31mNameError\u001b[0m                                 Traceback (most recent call last)",
      "Cell \u001b[0;32mIn[11], line 1\u001b[0m\n\u001b[0;32m----> 1\u001b[0m embedded_tables_unstructured_pack \u001b[38;5;241m=\u001b[39m \u001b[43mEmbeddedTablesUnstructuredRetrieverPack\u001b[49m(\n\u001b[1;32m      2\u001b[0m     \u001b[38;5;124m\"\u001b[39m\u001b[38;5;124mquarterly-nvidia/quarterly-nvidia.html\u001b[39m\u001b[38;5;124m\"\u001b[39m,\n\u001b[1;32m      3\u001b[0m     nodes_save_path\u001b[38;5;241m=\u001b[39m\u001b[38;5;124m\"\u001b[39m\u001b[38;5;124mnvidia-quarterly.pkl\u001b[39m\u001b[38;5;124m\"\u001b[39m\n\u001b[1;32m      4\u001b[0m )\n",
      "\u001b[0;31mNameError\u001b[0m: name 'EmbeddedTablesUnstructuredRetrieverPack' is not defined"
     ]
    }
   ],
   "source": [
    "\n",
    "embedded_tables_unstructured_pack = EmbeddedTablesUnstructuredRetrieverPack(\n",
    "    \"quarterly-nvidia/quarterly-nvidia.html\",\n",
    "    nodes_save_path=\"nvidia-quarterly.pkl\"\n",
    ")"
   ]
  },
  {
   "cell_type": "code",
   "execution_count": null,
   "id": "bf37a808-ebe5-49d8-8b72-39db19083d85",
   "metadata": {},
   "outputs": [],
   "source": []
  }
 ],
 "metadata": {
  "kernelspec": {
   "display_name": "Python 3 (ipykernel)",
   "language": "python",
   "name": "python3"
  },
  "language_info": {
   "codemirror_mode": {
    "name": "ipython",
    "version": 3
   },
   "file_extension": ".py",
   "mimetype": "text/x-python",
   "name": "python",
   "nbconvert_exporter": "python",
   "pygments_lexer": "ipython3",
   "version": "3.10.12"
  }
 },
 "nbformat": 4,
 "nbformat_minor": 5
}
