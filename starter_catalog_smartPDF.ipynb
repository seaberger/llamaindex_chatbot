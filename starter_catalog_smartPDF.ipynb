{
 "cells": [
  {
   "cell_type": "code",
   "execution_count": 7,
   "id": "19c139da-3cc3-4873-93e3-9ade6e872283",
   "metadata": {},
   "outputs": [],
   "source": [
    "#import logging\n",
    "#import sys\n",
    "\n",
    "#logging.basicConfig(stream=sys.stdout, level=logging.DEBUG)\n",
    "#logging.getLogger().addHandler(logging.StreamHandler(stream=sys.stdout))"
   ]
  },
  {
   "cell_type": "code",
   "execution_count": 11,
   "id": "db6a8ba6-2f18-444e-b57a-d58fce7a25ec",
   "metadata": {},
   "outputs": [],
   "source": [
    "#for handler in logging.getLogger().handlers[:]:\n",
    "#    logging.getLogger().removeHandler(handler)\n",
    "#logging.basicConfig(level=logging.WARNING)  # Set to WARNING or another desired level"
   ]
  },
  {
   "cell_type": "code",
   "execution_count": 1,
   "id": "64acdbd7-056e-42b0-80b7-c88ef1619ffe",
   "metadata": {},
   "outputs": [],
   "source": [
    "from dotenv import load_dotenv\n",
    "load_dotenv()\n",
    "\n",
    "# Now you can access the environment variable\n",
    "import os\n",
    "openai_api_key = os.getenv('OPENAI_API_KEY')"
   ]
  },
  {
   "cell_type": "code",
   "execution_count": 2,
   "id": "1fe5b609-2a17-4dff-b63a-12ed11b05a78",
   "metadata": {},
   "outputs": [],
   "source": [
    "import os.path\n",
    "from llama_index.core import (\n",
    "    VectorStoreIndex,\n",
    "    SimpleDirectoryReader,\n",
    "    StorageContext,\n",
    "    load_index_from_storage,\n",
    ")"
   ]
  },
  {
   "cell_type": "code",
   "execution_count": 12,
   "id": "7ff2d386-2cf5-4698-9b71-2f99a446e47b",
   "metadata": {},
   "outputs": [],
   "source": [
    "# check if storage already exists\n",
    "PERSIST_DIR = \"./storage\"\n",
    "if not os.path.exists(PERSIST_DIR):\n",
    "    # load the documents and create the index\n",
    "    documents = SimpleDirectoryReader(\"catalog\").load_data()\n",
    "    index = VectorStoreIndex.from_documents(documents)\n",
    "    # store it for later\n",
    "    index.storage_context.persist(persist_dir=PERSIST_DIR)\n",
    "else:\n",
    "    # load the existing index\n",
    "    storage_context = StorageContext.from_defaults(persist_dir=PERSIST_DIR)\n",
    "    index = load_index_from_storage(storage_context)"
   ]
  },
  {
   "cell_type": "code",
   "execution_count": 11,
   "id": "970af4c7-6586-4c11-90b5-0cb8245b2401",
   "metadata": {},
   "outputs": [],
   "source": [
    "#from llama_hub.smart_pdf_loader import SmartPDFLoader\n",
    "from llmsherpa.readers import LayoutPDFReader\n",
    "\n",
    "llmsherpa_api_url = \"https://readers.llmsherpa.com/api/document/developer/parseDocument?renderFormat=all\"\n",
    "pdf_url = \"/home/seanb/git/llamaindex_chatbot/catalog/laser-measurement-and-control-cat.pdf\"\n",
    "pdf_reader = LayoutPDFReader(llmsherpa_api_url)\n",
    "doc = pdf_reader.read_pdf(pdf_url)"
   ]
  },
  {
   "cell_type": "code",
   "execution_count": 14,
   "id": "3ad997e7-5513-405e-83b0-5a5e08f93232",
   "metadata": {},
   "outputs": [],
   "source": [
    "from llama_index.core import Document\n",
    "from llama_index.core import VectorStoreIndex\n",
    "\n",
    "index = VectorStoreIndex([])\n",
    "for chunk in doc.chunks():\n",
    "    index.insert(Document(text=chunk.to_context_text(), extra_info={}))\n",
    "query_engine = index.as_query_engine()"
   ]
  },
  {
   "cell_type": "code",
   "execution_count": 15,
   "id": "7db470e1-5e1b-4548-a85f-3f03174b19e9",
   "metadata": {},
   "outputs": [
    {
     "name": "stdout",
     "output_type": "stream",
     "text": [
      "Coherent offers BeamView Analyzer systems for laser beam analysis.\n"
     ]
    }
   ],
   "source": [
    "response = query_engine.query(\"What types of beam diagnostics systems does Coherent offer?\")\n",
    "print(response)"
   ]
  },
  {
   "cell_type": "code",
   "execution_count": 16,
   "id": "3a7e1df2-bd90-4f3d-af33-10f51830ddfa",
   "metadata": {},
   "outputs": [
    {
     "name": "stdout",
     "output_type": "stream",
     "text": [
      "A PM10 is a device with dimensions of 51 mm (2.0 in.) in diameter and 19 mm (0.75 in.) in height.\n"
     ]
    }
   ],
   "source": [
    "response = query_engine.query(\"What is a PM10?\")\n",
    "print(response)"
   ]
  },
  {
   "cell_type": "code",
   "execution_count": 17,
   "id": "58cc0a0a-015d-4ad0-9195-dc80b02d1e7f",
   "metadata": {},
   "outputs": [
    {
     "name": "stdout",
     "output_type": "stream",
     "text": [
      "10 mW\n"
     ]
    }
   ],
   "source": [
    "response = query_engine.query(\"What range of laser power can a PM10 measure?\")\n",
    "print(response)"
   ]
  },
  {
   "cell_type": "code",
   "execution_count": 18,
   "id": "292a4dd1-fd00-41fc-990d-a67fc9061164",
   "metadata": {},
   "outputs": [
    {
     "name": "stdout",
     "output_type": "stream",
     "text": [
      "The best power sensor to measure a 5W 1064nm laser with a 5mm diameter beam would be a high-sensitivity semiconductor sensor with an optional 1000:1 attenuator for linear operation up to a maximum of 5 Watts.\n"
     ]
    }
   ],
   "source": [
    "response = query_engine.query(\"What is the best power sensor to measure a 5W 1064nm laser with 5mm diameter beam?\")\n",
    "print(response)"
   ]
  },
  {
   "cell_type": "code",
   "execution_count": null,
   "id": "59960798-a824-4533-a887-21209df39dfc",
   "metadata": {},
   "outputs": [],
   "source": []
  }
 ],
 "metadata": {
  "kernelspec": {
   "display_name": "Python 3 (ipykernel)",
   "language": "python",
   "name": "python3"
  },
  "language_info": {
   "codemirror_mode": {
    "name": "ipython",
    "version": 3
   },
   "file_extension": ".py",
   "mimetype": "text/x-python",
   "name": "python",
   "nbconvert_exporter": "python",
   "pygments_lexer": "ipython3",
   "version": "3.10.12"
  }
 },
 "nbformat": 4,
 "nbformat_minor": 5
}
