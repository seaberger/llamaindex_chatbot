{
 "cells": [
  {
   "cell_type": "code",
   "execution_count": 33,
   "id": "9d9b8919-9211-4269-9088-0c7a45e4f136",
   "metadata": {},
   "outputs": [],
   "source": [
    "# llama-parse is async-first, running the async code in a notebook requires the use of nest_asyncio\n",
    "import nest_asyncio\n",
    "nest_asyncio.apply()"
   ]
  },
  {
   "cell_type": "code",
   "execution_count": 34,
   "id": "cb3cc93c-e487-430f-b300-f6aef6034924",
   "metadata": {},
   "outputs": [],
   "source": [
    "# Access the API through environment variable\n",
    "import os\n",
    "from dotenv import load_dotenv\n",
    "load_dotenv()\n",
    "\n",
    "openai_api_key = os.getenv('OPENAI_API_KEY')\n",
    "llama_cloud_api_key = os.getenv('LLAMA_CLOUD_API_KEY')"
   ]
  },
  {
   "cell_type": "code",
   "execution_count": 42,
   "id": "7fc80341-4be1-4f87-ac45-ab5ac60040a1",
   "metadata": {},
   "outputs": [],
   "source": [
    "from llama_index.llms.openai import OpenAI\n",
    "from llama_index.embeddings.openai import OpenAIEmbedding\n",
    "from llama_index.core import VectorStoreIndex\n",
    "from llama_index.core import Settings\n",
    "\n",
    "embed_model=OpenAIEmbedding(model=\"text-embedding-3-small\")\n",
    "llm = OpenAI(model=\"gpt-3.5-turbo-0125\")\n",
    "\n",
    "Settings.llm = llm\n",
    "Settings.embed_model = embed_model"
   ]
  },
  {
   "cell_type": "code",
   "execution_count": 36,
   "id": "b6498e5c-785a-40ce-9752-411d84a644dc",
   "metadata": {},
   "outputs": [
    {
     "name": "stdout",
     "output_type": "stream",
     "text": [
      "Started parsing the file under job_id 41f3b6c6-96ba-4639-9660-cea77d93ef1b\n"
     ]
    }
   ],
   "source": [
    "from llama_parse import LlamaParse\n",
    "from pathlib import Path\n",
    "\n",
    "# This constructs a Path object for the \"data\" directory.\n",
    "data_dir = Path('data')\n",
    "\n",
    "# This constructs the full path to \"attention.pdf\" within the \"data\" directory.\n",
    "file_path = data_dir / 'uber_10q_march_2022.pdf'\n",
    "\n",
    "# Use the constructed path in your method call\n",
    "documents = LlamaParse(result_type=\"text\").load_data(file_path)"
   ]
  },
  {
   "cell_type": "code",
   "execution_count": 37,
   "id": "277f5555-ccfb-4829-b187-ba34d7416203",
   "metadata": {},
   "outputs": [],
   "source": [
    "#Save the documents\n",
    "import os\n",
    "\n",
    "for i, document in enumerate(documents):\n",
    "    markdown_content = document.text  # Assuming 'text' is the attribute containing the Markdown content\n",
    "    file_path = os.path.join(data_dir, f\"document_{i}.md\")\n",
    "    with open(file_path, 'w', encoding='utf-8') as file:\n",
    "        file.write(markdown_content)"
   ]
  },
  {
   "cell_type": "code",
   "execution_count": null,
   "id": "32b9f548-1eb3-43cf-9e81-adb70de1b672",
   "metadata": {},
   "outputs": [],
   "source": [
    "#Reload the documents\n",
    "# Initialize an empty list to hold the reloaded documents\n",
    "documents_reloaded = []\n",
    "\n",
    "# List all files in the data directory\n",
    "files = os.listdir(data_dir)\n",
    "# Filter out files that match the naming pattern of saved documents\n",
    "document_files = [file for file in files if file.startswith(\"document_\") and file.endswith(\".md\")]\n",
    "\n",
    "# Sort files to maintain the original order based on their index\n",
    "document_files.sort(key=lambda x: int(x.split('_')[1].split('.')[0]))\n",
    "\n",
    "# Reload each document\n",
    "for file_name in document_files:\n",
    "    file_path = os.path.join(data_dir, file_name)\n",
    "    with open(file_path, 'r', encoding='utf-8') as file:\n",
    "        documents_reloaded.append(file.read())\n",
    "\n",
    "# documents_reloaded now contains all the documents loaded from the files"
   ]
  },
  {
   "cell_type": "code",
   "execution_count": 38,
   "id": "20a956a2-8056-4e86-bed5-56397f300d22",
   "metadata": {},
   "outputs": [
    {
     "name": "stdout",
     "output_type": "stream",
     "text": [
      "__________________________\n",
      "                                                Delaware                                                                                                     45-2647441\n",
      "           (State or other jurisdiction of incorporation or organization)                                                                  (I.R.S. Employer Identification No.)\n",
      "                                                                                                   1515 3rd Street\n",
      "                                                                                       San Francisco, California 94158\n",
      "                                                                    (Address of principal executive offices, including zip code)\n",
      "                                                                                                   (415) 612-8582\n",
      "                                                                        (Registrant’s telephone number, including area code)\n",
      "                           ...\n"
     ]
    }
   ],
   "source": [
    "print(documents[0].text[2000:3000] + '...')"
   ]
  },
  {
   "cell_type": "code",
   "execution_count": 39,
   "id": "7773149d-7f53-41c9-816b-6810295073b1",
   "metadata": {},
   "outputs": [
    {
     "data": {
      "text/plain": [
       "1"
      ]
     },
     "execution_count": 39,
     "metadata": {},
     "output_type": "execute_result"
    }
   ],
   "source": [
    "sum(len(documents) for document in documents)"
   ]
  },
  {
   "cell_type": "code",
   "execution_count": 40,
   "id": "ba5b2225-5e1b-42c8-9083-a5b06919e0ef",
   "metadata": {},
   "outputs": [
    {
     "name": "stdout",
     "output_type": "stream",
     "text": [
      "Number of characters in documents[0]: 570125\n"
     ]
    }
   ],
   "source": [
    "num_characters = len(documents[0].text)\n",
    "print(f\"Number of characters in documents[0]: {num_characters}\")"
   ]
  },
  {
   "cell_type": "code",
   "execution_count": 43,
   "id": "0299fba1-310f-4951-a95a-bac53f69cbc0",
   "metadata": {},
   "outputs": [],
   "source": [
    "from llama_index.core.node_parser import MarkdownElementNodeParser"
   ]
  },
  {
   "cell_type": "code",
   "execution_count": 45,
   "id": "a9e9d0ce-adc6-48de-94c4-71d87dc4f18a",
   "metadata": {},
   "outputs": [],
   "source": [
    "node_parser = MarkdownElementNodeParser(llm=OpenAI(model=\"gpt-3.5-turbo-0125\"))"
   ]
  },
  {
   "cell_type": "raw",
   "id": "99f6baad-7870-4c95-b742-e46fbeea7712",
   "metadata": {},
   "source": [
    "node_parser = MarkdownElementNodeParser(llm=OpenAI(model=\"gpt-3.5-turbo-0125\"), num_workers=1)"
   ]
  },
  {
   "cell_type": "code",
   "execution_count": 46,
   "id": "3b4454b2-8a36-4de8-ad86-d9f7c1b7bf8c",
   "metadata": {},
   "outputs": [
    {
     "name": "stdout",
     "output_type": "stream",
     "text": [
      "Embeddings have been explicitly disabled. Using MockEmbedding.\n"
     ]
    },
    {
     "name": "stderr",
     "output_type": "stream",
     "text": [
      "0it [00:00, ?it/s]\n",
      "0it [00:00, ?it/s]\n"
     ]
    }
   ],
   "source": [
    "nodes = node_parser.get_nodes_from_documents(documents)"
   ]
  },
  {
   "cell_type": "code",
   "execution_count": null,
   "id": "57c6a49f-27dd-48bf-9a62-770e6663c3d7",
   "metadata": {},
   "outputs": [],
   "source": [
    "print(nodes)"
   ]
  },
  {
   "cell_type": "code",
   "execution_count": 47,
   "id": "36450c38-e915-4278-9dd3-0debdfb6d49f",
   "metadata": {},
   "outputs": [],
   "source": [
    "base_nodes, objects = node_parser.get_nodes_and_objects(nodes)"
   ]
  },
  {
   "cell_type": "code",
   "execution_count": 48,
   "id": "db89110d-e860-4d4f-81e5-753ae7391412",
   "metadata": {},
   "outputs": [],
   "source": [
    "recursive_index = VectorStoreIndex(nodes=base_nodes+objects)\n",
    "raw_index = VectorStoreIndex.from_documents(documents)"
   ]
  },
  {
   "cell_type": "code",
   "execution_count": 49,
   "id": "4d404909-d2be-4660-b798-dde78c1104e5",
   "metadata": {},
   "outputs": [],
   "source": [
    "from llama_index.postprocessor.flag_embedding_reranker import FlagEmbeddingReranker\n",
    "\n",
    "reranker = FlagEmbeddingReranker(\n",
    "    top_n=5,\n",
    "    model=\"BAAI/bge-reranker-large\",\n",
    ")\n",
    "\n",
    "recursive_query_engine = recursive_index.as_query_engine(\n",
    "    similarity_top_k=15, \n",
    "    node_postprocessors=[reranker], \n",
    "    verbose=True\n",
    ")\n",
    "\n",
    "raw_query_engine = raw_index.as_query_engine(similarity_top_k=15, node_postprocessors=[reranker])"
   ]
  },
  {
   "cell_type": "code",
   "execution_count": 50,
   "id": "8bdbcb79-d5f8-41b5-8bca-e6dfd0d51b92",
   "metadata": {},
   "outputs": [
    {
     "name": "stdout",
     "output_type": "stream",
     "text": [
      "120\n"
     ]
    }
   ],
   "source": [
    "print(len(nodes))"
   ]
  },
  {
   "cell_type": "code",
   "execution_count": 51,
   "id": "332ecf02-c1ac-454e-b0b8-1015c2f7154e",
   "metadata": {},
   "outputs": [
    {
     "name": "stdout",
     "output_type": "stream",
     "text": [
      "\n",
      "***********New LlamaParse+ Basic Query Engine***********\n",
      "The Cash paid for Income taxes, net of refunds, is calculated by adjusting the provision for (benefit from) income taxes by considering the changes in the income tax payable or refundable during the period. This adjustment reflects the actual cash outflows or inflows related to income taxes after accounting for any refunds received.\n",
      "\n",
      "***********New LlamaParse+ Recursive Retriever Query Engine***********\n",
      "The Cash paid for Income taxes, net of refunds from Supplemental disclosures of cash flow information is calculated by adjusting the provision for (benefit from) income taxes by considering the changes in the income tax payable during the period. This adjustment reflects the actual cash payments made for income taxes, taking into account any refunds received.\n"
     ]
    }
   ],
   "source": [
    "query = \"how is the Cash paid for Income taxes, net of refunds from Supplemental disclosures of cash flow information?\"\n",
    "\n",
    "response_1 = raw_query_engine.query(query)\n",
    "print(\"\\n***********New LlamaParse+ Basic Query Engine***********\")\n",
    "print(response_1)\n",
    "\n",
    "response_2 = recursive_query_engine.query(query)\n",
    "print(\"\\n***********New LlamaParse+ Recursive Retriever Query Engine***********\")\n",
    "print(response_2)"
   ]
  },
  {
   "cell_type": "code",
   "execution_count": 26,
   "id": "e478b52a-93c0-4b84-8e8c-4df1eba59218",
   "metadata": {},
   "outputs": [
    {
     "name": "stdout",
     "output_type": "stream",
     "text": [
      "\n",
      "***********New LlamaParse+ Basic Query Engine***********\n",
      "The change in free cash flow from the financial and operational highlights is an improvement of $635 million, with the rate being not meaningful.\n",
      "\n",
      "***********New LlamaParse+ Recursive Retriever Query Engine***********\n",
      "The change in free cash flow from the financial and operational highlights is an improvement of $635 million, with the rate being a positive 93%.\n"
     ]
    }
   ],
   "source": [
    "query = \"what is the change of free cash flow and what is the rate from the financial and operational highlights?\"\n",
    "\n",
    "response_1 = raw_query_engine.query(query)\n",
    "print(\"\\n***********New LlamaParse+ Basic Query Engine***********\")\n",
    "print(response_1)\n",
    "\n",
    "response_2 = recursive_query_engine.query(query)\n",
    "print(\"\\n***********New LlamaParse+ Recursive Retriever Query Engine***********\")\n",
    "print(response_2)"
   ]
  },
  {
   "cell_type": "code",
   "execution_count": 27,
   "id": "046dca06-8e3f-4ab8-aa01-9b990e7cca07",
   "metadata": {},
   "outputs": [
    {
     "name": "stdout",
     "output_type": "stream",
     "text": [
      "\n",
      "***********New LlamaParse+ Basic Query Engine***********\n",
      "The net loss attributable to Uber Technologies, Inc. for the current period is $5.9 billion, which is an increase compared to the net loss of $108 million for the same period last year.\n",
      "\n",
      "***********New LlamaParse+ Recursive Retriever Query Engine***********\n",
      "The net loss attributable to Uber Technologies, Inc. was $5.9 billion for the first quarter of 2022, compared to a net loss of $108 million for the same period in 2021.\n"
     ]
    }
   ],
   "source": [
    "query = \"what is the net loss value attributable to Uber compared to last year?\"\n",
    "\n",
    "response_1 = raw_query_engine.query(query)\n",
    "print(\"\\n***********New LlamaParse+ Basic Query Engine***********\")\n",
    "print(response_1)\n",
    "\n",
    "response_2 = recursive_query_engine.query(query)\n",
    "print(\"\\n***********New LlamaParse+ Recursive Retriever Query Engine***********\")\n",
    "print(response_2)"
   ]
  },
  {
   "cell_type": "code",
   "execution_count": 28,
   "id": "34487ee6-b46e-4502-a05e-4c578d15d389",
   "metadata": {},
   "outputs": [
    {
     "name": "stdout",
     "output_type": "stream",
     "text": [
      "\n",
      "***********New LlamaParse+ Basic Query Engine***********\n",
      "Cash flows from investing activities were $135 million for the three months ended March 31, 2022. This primarily consisted of $62 million in purchases of property and equipment and $59 million in acquisition of business, net of cash acquired.\n",
      "\n",
      "***********New LlamaParse+ Recursive Retriever Query Engine***********\n",
      "Cash flows from investing activities were $135 million for the three months ended March 31, 2022. This primarily consisted of $62 million in purchases of property and equipment and $59 million in acquisition of business, net of cash acquired.\n"
     ]
    }
   ],
   "source": [
    "query = \"What were cash flows like from investing activities?\"\n",
    "\n",
    "response_1 = raw_query_engine.query(query)\n",
    "print(\"\\n***********New LlamaParse+ Basic Query Engine***********\")\n",
    "print(response_1)\n",
    "\n",
    "response_2 = recursive_query_engine.query(query)\n",
    "print(\"\\n***********New LlamaParse+ Recursive Retriever Query Engine***********\")\n",
    "print(response_2)"
   ]
  },
  {
   "cell_type": "code",
   "execution_count": 29,
   "id": "087df0a7-7037-466a-b76a-563add09792d",
   "metadata": {},
   "outputs": [
    {
     "name": "stdout",
     "output_type": "stream",
     "text": [
      "\n",
      "***********New LlamaParse+ Basic Query Engine***********\n",
      "The greatest risks identified that could affect next quarter's earnings include the impact of the COVID-19 pandemic and related restrictions on business operations, potential Driver supply constraints, uncertainties in end-user behavior and demand for Mobility offerings, and the unpredictability of when Driver supply levels will return to pre-pandemic levels.\n",
      "\n",
      "***********New LlamaParse+ Recursive Retriever Query Engine***********\n",
      "The greatest risks identified that could affect next quarter's earnings include the impact of the COVID-19 pandemic and related actions to mitigate it, potential fluctuations in operating results due to factors beyond the company's control, such as seasonal fluctuations and competition in the markets, the need to attract and retain platform users, manage growth effectively, and keep pace with technological changes, as well as potential security breaches, cyberattacks, and climate change risks. Additionally, the company's ability to meet investor or analyst expectations, market volatility, and the availability of additional capital for business growth are highlighted as significant risks that could impact future earnings.\n"
     ]
    }
   ],
   "source": [
    "query = \"What were greatest risks identified that could affect next quarter's earnings?\"\n",
    "\n",
    "response_1 = raw_query_engine.query(query)\n",
    "print(\"\\n***********New LlamaParse+ Basic Query Engine***********\")\n",
    "print(response_1)\n",
    "\n",
    "response_2 = recursive_query_engine.query(query)\n",
    "print(\"\\n***********New LlamaParse+ Recursive Retriever Query Engine***********\")\n",
    "print(response_2)"
   ]
  },
  {
   "cell_type": "code",
   "execution_count": null,
   "id": "41393e74-6847-4a58-86cf-4d41216728cd",
   "metadata": {},
   "outputs": [],
   "source": []
  }
 ],
 "metadata": {
  "kernelspec": {
   "display_name": "Python 3 (ipykernel)",
   "language": "python",
   "name": "python3"
  },
  "language_info": {
   "codemirror_mode": {
    "name": "ipython",
    "version": 3
   },
   "file_extension": ".py",
   "mimetype": "text/x-python",
   "name": "python",
   "nbconvert_exporter": "python",
   "pygments_lexer": "ipython3",
   "version": "3.10.12"
  }
 },
 "nbformat": 4,
 "nbformat_minor": 5
}
