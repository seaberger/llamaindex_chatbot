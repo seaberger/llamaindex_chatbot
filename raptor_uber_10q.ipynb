{
 "cells": [
  {
   "cell_type": "code",
   "execution_count": 1,
   "id": "96532a89-d4d9-474f-be1b-7445d8cf8e2b",
   "metadata": {},
   "outputs": [],
   "source": [
    "#!pip install llama-index llama-index-packs-raptor llama-index-vector-stores-qdrant"
   ]
  },
  {
   "cell_type": "code",
   "execution_count": 19,
   "id": "9d934e47-bec1-497b-88a5-c1defa07b7af",
   "metadata": {},
   "outputs": [],
   "source": [
    "from llama_index.packs.raptor import RaptorPack\n",
    "\n",
    "# optionally download the pack to inspect/modify it yourself!\n",
    "# from llama_index.core.llama_pack import download_llama_pack\n",
    "# RaptorPack = download_llama_pack(\"RaptorPack\", \"./raptor_pack\")"
   ]
  },
  {
   "cell_type": "code",
   "execution_count": 20,
   "id": "e3ec6faf-bf51-4c84-9814-57114ff05f5e",
   "metadata": {},
   "outputs": [],
   "source": [
    "# Access the API through environment variable\n",
    "import os\n",
    "from dotenv import load_dotenv\n",
    "load_dotenv()\n",
    "\n",
    "openai_api_key = os.getenv('OPENAI_API_KEY')\n",
    "llama_cloud_api_key = os.getenv('LLAMA_CLOUD_API_KEY')"
   ]
  },
  {
   "cell_type": "code",
   "execution_count": 21,
   "id": "84bf5871-210a-4ac2-8582-da42b1b52338",
   "metadata": {},
   "outputs": [],
   "source": [
    "import nest_asyncio\n",
    "\n",
    "nest_asyncio.apply()"
   ]
  },
  {
   "cell_type": "code",
   "execution_count": 22,
   "id": "1bbbc47d-74be-468a-99b4-26be1314331c",
   "metadata": {},
   "outputs": [],
   "source": [
    "from llama_parse import LlamaParse\n",
    "from pathlib import Path"
   ]
  },
  {
   "cell_type": "code",
   "execution_count": 23,
   "id": "bf25753e-5ff2-47c9-ac2f-db62f7e546cf",
   "metadata": {},
   "outputs": [],
   "source": [
    "# This constructs a Path object for the \"data\" directory.\n",
    "data_dir = Path('data')\n",
    "\n",
    "# This constructs the full path to document within the \"data\" directory.\n",
    "file_path = data_dir / 'uber_10q_march_2022.pdf'"
   ]
  },
  {
   "cell_type": "code",
   "execution_count": 15,
   "id": "30baffcd-2d6f-4caa-bfe0-16c436b532d7",
   "metadata": {},
   "outputs": [
    {
     "name": "stdout",
     "output_type": "stream",
     "text": [
      "Started parsing the file under job_id f596fc38-4c27-4624-807a-678732f82433\n"
     ]
    }
   ],
   "source": [
    "# Use the constructed path in your method call\n",
    "documents = LlamaParse(result_type=\"markdown\").load_data(file_path)"
   ]
  },
  {
   "cell_type": "code",
   "execution_count": 24,
   "id": "a722811a-5846-410f-9198-bf007a3f0525",
   "metadata": {},
   "outputs": [],
   "source": [
    "from llama_index.core import SimpleDirectoryReader\n",
    "\n",
    "documents_simple = SimpleDirectoryReader(input_files=[file_path]).load_data()"
   ]
  },
  {
   "cell_type": "code",
   "execution_count": 25,
   "id": "bd940375-c0f8-4e23-8175-b78954c78420",
   "metadata": {},
   "outputs": [
    {
     "name": "stdout",
     "output_type": "stream",
     "text": [
      "Generating embeddings for level 0.\n",
      "Performing clustering for level 0.\n",
      "Generating summaries for level 0 with 62 clusters.\n",
      "Level 0 created summaries/clusters: 62\n",
      "Generating embeddings for level 1.\n",
      "Performing clustering for level 1.\n",
      "Generating summaries for level 1 with 11 clusters.\n",
      "Level 1 created summaries/clusters: 11\n",
      "Generating embeddings for level 2.\n",
      "Performing clustering for level 2.\n",
      "Generating summaries for level 2 with 1 clusters.\n",
      "Level 2 created summaries/clusters: 1\n"
     ]
    }
   ],
   "source": [
    "from llama_index.core.node_parser import SentenceSplitter\n",
    "from llama_index.llms.openai import OpenAI\n",
    "from llama_index.embeddings.openai import OpenAIEmbedding\n",
    "from llama_index.vector_stores.chroma import ChromaVectorStore\n",
    "import chromadb\n",
    "\n",
    "client = chromadb.PersistentClient(path=\"./data/uber_db\")\n",
    "collection = client.get_or_create_collection(\"uber\")\n",
    "\n",
    "vector_store = ChromaVectorStore(chroma_collection=collection)\n",
    "\n",
    "raptor_pack = RaptorPack(\n",
    "    documents_simple,\n",
    "    embed_model=OpenAIEmbedding(\n",
    "        model=\"text-embedding-3-small\"\n",
    "    ),  # used for embedding clusters\n",
    "    llm=OpenAI(model=\"gpt-3.5-turbo\", temperature=0.1),  # used for generating summaries\n",
    "    vector_store=vector_store,  # used for storage\n",
    "    similarity_top_k=2,  # top k for each layer, or overall top-k for collapsed\n",
    "    mode=\"collapsed\",  # sets default mode\n",
    "    transformations=[\n",
    "        SentenceSplitter(chunk_size=400, chunk_overlap=50)\n",
    "    ],  # transformations applied for ingestion\n",
    ")"
   ]
  },
  {
   "cell_type": "code",
   "execution_count": 26,
   "id": "f3b0faaf-5882-4246-99ba-2e32d4f67b61",
   "metadata": {},
   "outputs": [
    {
     "name": "stdout",
     "output_type": "stream",
     "text": [
      "2\n",
      "Uber Technologies, Inc.'s condensed consolidated financial statements for the three months ended March 31, 2021 and 2022 show a significant increase in revenue from $2.9 billion to $6.9 billion. However, costs and expenses also rose substantially from $4.4 billion to $7.3 billion, resulting in a net loss attributable to Uber Technologies, Inc. of $108 million in 2021 and $5.93 billion in 2022. The company experienced a loss from operations of $1.52 billion in 2021, which improved to $482 million in 2022. Other income (expense) also varied greatly, from $1.71 billion in income in 2021 to a loss of $5.56 billion in 2022. The comprehensive income (loss) attributable to Uber Technologies, Inc. was $1.08 billion in 2021 and a loss of $5.91 billion in 2022. The company's free cash flow was -$682 million in 2021 and -$47 million in 2022. Operating activities saw a shift from net cash used of $611 million in 2021 to net cash provided of $15 million in 2022. Investing activities involved net cash used of $135 million in 2022, with purchases of property and equipment and business acquisitions being significant factors.\n"
     ]
    }
   ],
   "source": [
    "nodes = raptor_pack.run(\"What were revenue and earnings for Uber in the current quarter of 2022 and the same quarter in the prior year 2021?\", mode=\"collapsed\")\n",
    "print(len(nodes))\n",
    "print(nodes[0].text)"
   ]
  },
  {
   "cell_type": "code",
   "execution_count": 27,
   "id": "1492cb21-5664-4858-9626-20ba0565e084",
   "metadata": {},
   "outputs": [
    {
     "name": "stdout",
     "output_type": "stream",
     "text": [
      "Retrieved parent IDs from level 2: ['aadc9272-5a92-4310-890d-374b80319327']\n",
      "Retrieved 2 from parents at level 2.\n",
      "Retrieved parent IDs from level 1: ['bc515f30-3b36-4428-86b4-863e40005dd7', '65b2191d-edde-4bcd-9de3-0b304e77a73d']\n",
      "Retrieved 4 from parents at level 1.\n",
      "Retrieved parent IDs from level 0: ['153ce4b7-bde7-4e86-a655-3ff537c13867', '8e7eafb6-c5d5-458d-8659-0aa5490c0d3b']\n",
      "Retrieved 4 from parents at level 0.\n",
      "4\n",
      "$ (108)$ (5,930)\n",
      "The following table sets forth the components of our condensed consolidated statements of operations for each of the periods presented as a percentage of\n",
      "revenue :\n",
      "Three Months Ended March 31,\n",
      "2021 2022\n",
      "Revenue 100 % 100 %\n",
      "Costs and expenses\n",
      "Cost of revenue, exclusive of depreciation and amortization shown separately below 59 % 59 %\n",
      "Operations and support 15 % 8 %\n",
      "Sales and marketing 38 % 18 %\n",
      "Research and development 18 % 9 %\n",
      "General and administrative 16 % 9 %\n",
      "Depreciation and amortization 7 % 4 %\n",
      "Total costs and expenses 152 % 107 %\n",
      "Loss from operations (52)% (7)%\n",
      "Interest expense (4)% (2)%\n",
      "Other income (expense), net 59 % (81)%\n",
      "Income (loss) before income taxes and income (loss) from equity method investments 2 % (90)%\n",
      "Provision for (benefit from) income taxes 6 % (3)%\n",
      "Income (loss) from equity method investments — % — %\n",
      "Net loss including non-controlling interests (4)% (86)%\n",
      "Less: net income (loss) attributable to non-controlling interests, net of tax — % — %\n",
      "Net loss attributable to Uber Technologies, Inc. (4)% (87)%\n",
      " Totals of percentage of revenues may not foot due to rounding.(1)\n",
      "(1)\n",
      "37\n"
     ]
    }
   ],
   "source": [
    "nodes = raptor_pack.run(\n",
    "    \"What were revenue and earnings for Uber in the current quarter of 2022 and the same quarter in the prior year 2021?\", mode=\"tree_traversal\"\n",
    ")\n",
    "print(len(nodes))\n",
    "print(nodes[0].text)"
   ]
  },
  {
   "cell_type": "code",
   "execution_count": 29,
   "id": "827ddb42-3fd4-48bf-8466-f42b0151036a",
   "metadata": {},
   "outputs": [],
   "source": [
    "#Loading -- Since we saved to a vector store, we can also use it again! \n",
    "from llama_index.packs.raptor import RaptorRetriever\n",
    "\n",
    "retriever = RaptorRetriever(\n",
    "    [],\n",
    "    embed_model=OpenAIEmbedding(\n",
    "        model=\"text-embedding-3-small\"\n",
    "    ),  # used for embedding clusters\n",
    "    llm=OpenAI(model=\"gpt-3.5-turbo\", temperature=0.1),  # used for generating summaries\n",
    "    vector_store=vector_store,  # used for storage\n",
    "    similarity_top_k=2,  # top k for each layer, or overall top-k for collapsed\n",
    "    mode=\"tree_traversal\",  # sets default mode\n",
    ")"
   ]
  },
  {
   "cell_type": "code",
   "execution_count": 30,
   "id": "67f32754-e815-4ab5-a85d-6a24d7ea0e04",
   "metadata": {},
   "outputs": [],
   "source": [
    "#Query Engine\n",
    "from llama_index.core.query_engine import RetrieverQueryEngine\n",
    "\n",
    "query_engine = RetrieverQueryEngine.from_args(\n",
    "    raptor_pack.retriever, llm=OpenAI(model=\"gpt-3.5-turbo\", temperature=0.1)\n",
    ")"
   ]
  },
  {
   "cell_type": "code",
   "execution_count": 31,
   "id": "9b2511e0-663d-46d8-b15e-7d8498168a96",
   "metadata": {},
   "outputs": [],
   "source": [
    "response = query_engine.query(\"What was Uber's revenue in the three months ended March 31, 2021 and 2022?\")"
   ]
  },
  {
   "cell_type": "code",
   "execution_count": 32,
   "id": "e2c2d4bc-39bf-49a8-b90b-76cf6b2d1dcd",
   "metadata": {},
   "outputs": [
    {
     "name": "stdout",
     "output_type": "stream",
     "text": [
      "Uber's revenue in the three months ended March 31, 2021 was $2.9 billion, and in the three months ended March 31, 2022, it was $6.9 billion.\n"
     ]
    }
   ],
   "source": [
    "print(str(response))"
   ]
  },
  {
   "cell_type": "code",
   "execution_count": 39,
   "id": "0ff6160c-67b3-42d2-9cd9-2c72b36900b3",
   "metadata": {},
   "outputs": [],
   "source": [
    "response = query_engine.query(\"What are Uber's assets?\")"
   ]
  },
  {
   "cell_type": "code",
   "execution_count": 40,
   "id": "9443d1c1-f2e7-4a48-bb93-4a325804ffd1",
   "metadata": {},
   "outputs": [
    {
     "name": "stdout",
     "output_type": "stream",
     "text": [
      "Uber's assets include total assets of $32,812 million, with cash and cash equivalents amounting to $4,184 million.\n"
     ]
    }
   ],
   "source": [
    "print(str(response))"
   ]
  },
  {
   "cell_type": "code",
   "execution_count": null,
   "id": "8df6cbd7-ea38-4d04-b88f-297edc4a84e3",
   "metadata": {},
   "outputs": [],
   "source": []
  }
 ],
 "metadata": {
  "kernelspec": {
   "display_name": "Python 3 (ipykernel)",
   "language": "python",
   "name": "python3"
  },
  "language_info": {
   "codemirror_mode": {
    "name": "ipython",
    "version": 3
   },
   "file_extension": ".py",
   "mimetype": "text/x-python",
   "name": "python",
   "nbconvert_exporter": "python",
   "pygments_lexer": "ipython3",
   "version": "3.10.12"
  }
 },
 "nbformat": 4,
 "nbformat_minor": 5
}
