{
 "cells": [
  {
   "cell_type": "code",
   "execution_count": null,
   "id": "96532a89-d4d9-474f-be1b-7445d8cf8e2b",
   "metadata": {},
   "outputs": [],
   "source": [
    "#!pip install llama-index llama-index-packs-raptor llama-index-vector-stores-qdrant"
   ]
  },
  {
   "cell_type": "code",
   "execution_count": 1,
   "id": "9d934e47-bec1-497b-88a5-c1defa07b7af",
   "metadata": {},
   "outputs": [],
   "source": [
    "from llama_index.packs.raptor import RaptorPack\n",
    "\n",
    "# optionally download the pack to inspect/modify it yourself!\n",
    "# from llama_index.core.llama_pack import download_llama_pack\n",
    "# RaptorPack = download_llama_pack(\"RaptorPack\", \"./raptor_pack\")"
   ]
  },
  {
   "cell_type": "code",
   "execution_count": 2,
   "id": "e3ec6faf-bf51-4c84-9814-57114ff05f5e",
   "metadata": {},
   "outputs": [],
   "source": [
    "# Access the API through environment variable\n",
    "import os\n",
    "from dotenv import load_dotenv\n",
    "load_dotenv()\n",
    "\n",
    "openai_api_key = os.getenv('OPENAI_API_KEY')\n",
    "llama_cloud_api_key = os.getenv('LLAMA_CLOUD_API_KEY')"
   ]
  },
  {
   "cell_type": "code",
   "execution_count": 3,
   "id": "84bf5871-210a-4ac2-8582-da42b1b52338",
   "metadata": {},
   "outputs": [],
   "source": [
    "import nest_asyncio\n",
    "\n",
    "nest_asyncio.apply()"
   ]
  },
  {
   "cell_type": "code",
   "execution_count": 4,
   "id": "1bbbc47d-74be-468a-99b4-26be1314331c",
   "metadata": {},
   "outputs": [],
   "source": [
    "from llama_parse import LlamaParse\n",
    "from pathlib import Path"
   ]
  },
  {
   "cell_type": "code",
   "execution_count": 5,
   "id": "bf25753e-5ff2-47c9-ac2f-db62f7e546cf",
   "metadata": {},
   "outputs": [],
   "source": [
    "# This constructs a Path object for the \"data\" directory.\n",
    "data_dir = Path('catalog')\n",
    "\n",
    "# This constructs the full path to document within the \"data\" directory.\n",
    "file_path = data_dir / 'laser-measurement-and-control-cat.pdf'"
   ]
  },
  {
   "cell_type": "code",
   "execution_count": null,
   "id": "30baffcd-2d6f-4caa-bfe0-16c436b532d7",
   "metadata": {},
   "outputs": [],
   "source": [
    "# Use the constructed path in your method call\n",
    "# documents = LlamaParse(result_type=\"markdown\").load_data(file_path)"
   ]
  },
  {
   "cell_type": "code",
   "execution_count": 6,
   "id": "a722811a-5846-410f-9198-bf007a3f0525",
   "metadata": {},
   "outputs": [],
   "source": [
    "from llama_index.core import SimpleDirectoryReader\n",
    "\n",
    "documents = SimpleDirectoryReader(input_files=[file_path]).load_data()"
   ]
  },
  {
   "cell_type": "code",
   "execution_count": 7,
   "id": "bd940375-c0f8-4e23-8175-b78954c78420",
   "metadata": {},
   "outputs": [
    {
     "name": "stdout",
     "output_type": "stream",
     "text": [
      "Generating embeddings for level 0.\n",
      "Performing clustering for level 0.\n",
      "Generating summaries for level 0 with 71 clusters.\n",
      "Level 0 created summaries/clusters: 71\n",
      "Generating embeddings for level 1.\n",
      "Performing clustering for level 1.\n",
      "Generating summaries for level 1 with 12 clusters.\n",
      "Level 1 created summaries/clusters: 12\n",
      "Generating embeddings for level 2.\n",
      "Performing clustering for level 2.\n",
      "Generating summaries for level 2 with 3 clusters.\n",
      "Level 2 created summaries/clusters: 3\n"
     ]
    }
   ],
   "source": [
    "from llama_index.core.node_parser import SentenceSplitter\n",
    "from llama_index.llms.openai import OpenAI\n",
    "from llama_index.embeddings.openai import OpenAIEmbedding\n",
    "from llama_index.vector_stores.chroma import ChromaVectorStore\n",
    "import chromadb\n",
    "\n",
    "client = chromadb.PersistentClient(path=\"./catalog/catalog_db\")\n",
    "collection = client.get_or_create_collection(\"catalog\")\n",
    "\n",
    "vector_store = ChromaVectorStore(chroma_collection=collection)\n",
    "\n",
    "raptor_pack = RaptorPack(\n",
    "    documents,\n",
    "    embed_model=OpenAIEmbedding(\n",
    "        model=\"text-embedding-3-small\"\n",
    "    ),  # used for embedding clusters\n",
    "    llm=OpenAI(model=\"gpt-3.5-turbo\", temperature=0.1),  # used for generating summaries\n",
    "    vector_store=vector_store,  # used for storage\n",
    "    similarity_top_k=2,  # top k for each layer, or overall top-k for collapsed\n",
    "    mode=\"collapsed\",  # sets default mode\n",
    "    transformations=[\n",
    "        SentenceSplitter(chunk_size=400, chunk_overlap=50)\n",
    "    ],  # transformations applied for ingestion\n",
    ")"
   ]
  },
  {
   "cell_type": "code",
   "execution_count": 8,
   "id": "f3b0faaf-5882-4246-99ba-2e32d4f67b61",
   "metadata": {},
   "outputs": [
    {
     "name": "stdout",
     "output_type": "stream",
     "text": [
      "2\n",
      "PM100-19C PM150 PM150-50Power Range 300 mW to 150 WPowerMax - Laser Power Sensors\n",
      "1/4-20 UNC\n",
      "Female Mounting\n",
      "Threads\n",
      "51 mm\n",
      "(2.0 in.)51 mm\n",
      "(2.0 in.)\n",
      "76 mm\n",
      "(3.0 in.)89 mm\n",
      "(3.5 in.)89 mm\n",
      "(3.5 in.)\n",
      "Ø19 mm\n",
      "(0.75 in.)31 mm\n",
      "(1.23 in.)\n",
      "Note: Detector Surface\n",
      "is 7.2 mm (0.28 in.) below\n",
      "front face of aperture plateAdjustable\n",
      "189-259 mm\n",
      "(7.44-10.2 in.)3/8-16 UNC\n",
      "Female Mounting ThreadsØ19 mm\n",
      "(0.75 in.)\n",
      "Ø151 mm\n",
      "(5.95 in.)\n",
      "Note: Detector Surface\n",
      "is 32.3 mm (1.27 in.) below\n",
      "front face of aperture plate3/8-16 UNC\n",
      "Female Mounting\n",
      "ThreadsØ50 mm\n",
      "(1.97 in.)\n",
      "Ø151 mm\n",
      "(5.95 in.)\n",
      "Note: Detector Surface\n",
      "is 32.2 mm (1.27 in.) below\n",
      "front face of aperture platePM150 and PM150-50 are our highest power convective air-cooled sensors. \n",
      "These sensor models are rated for continuous use up to 150W. The PM100-\n",
      "19C, however, is a smaller sensor that can be operated air-cooled at 100W for \n",
      "up to 5 minutes before it must be allowed to cool down. \n",
      "Device  \n",
      "Specifications\n",
      "ISO/IEC 17025:2005\n",
      "Power Sensors\n"
     ]
    }
   ],
   "source": [
    "nodes = raptor_pack.run(\"What are the specs for a PM10?\", mode=\"collapsed\")\n",
    "print(len(nodes))\n",
    "print(nodes[0].text)"
   ]
  },
  {
   "cell_type": "code",
   "execution_count": 9,
   "id": "1492cb21-5664-4858-9626-20ba0565e084",
   "metadata": {},
   "outputs": [
    {
     "name": "stdout",
     "output_type": "stream",
     "text": [
      "Retrieved parent IDs from level 2: ['97d26d3e-eba8-4807-ab90-3650a51428a7', 'a4afe412-8904-44ca-beea-f4a67bcbac4f']\n",
      "Retrieved 4 from parents at level 2.\n",
      "Retrieved parent IDs from level 1: ['2d02a20f-07fa-446d-9691-77784a7f43ff', '6e56a094-8316-47e7-a2f3-e9cabc702b99']\n",
      "Retrieved 4 from parents at level 1.\n",
      "Retrieved parent IDs from level 0: ['d7b77226-5c4b-46c8-8fa9-c2997c6914d9', 'cd9f8b4a-8568-49d4-8580-b0cf45731f0a']\n",
      "Retrieved 4 from parents at level 0.\n",
      "4\n",
      ")36 mm\n",
      "(1.4 in.)\n",
      "PM3 only\n",
      "39 mm\n",
      "(1.53 in.)\n",
      "PM3Q onlyØ19 mm\n",
      "(0.75 in.)\n",
      "Ø22 mm\n",
      "(0.89 in.)\n",
      "Light Tube\n",
      "PM3 only74 mm\n",
      "(2.9 in.)\n",
      "Light Tube\n",
      "PM3 only\n",
      "(removable)\n",
      "Ø63 mm\n",
      "(2.48 in.)\n",
      "Adjustable\n",
      "186 mm to 227 mm\n",
      "(6.81 in. to 8.96 in.)\n",
      "51 mm\n",
      "(2.0 in.)\n",
      "76 mm\n",
      "(3.0 in.)Note: Detector Surface\n",
      "is 11 mm (0.44 in.) below\n",
      "front face of aperture plat eAdjustable\n",
      "198-252 mm\n",
      "(7.79-9.97 in.)Ø83.8 mm\n",
      "(3.3 in.)Ø10 mm\n",
      "(0.39 in.)\n",
      "Ø12.2 mm\n",
      "(0.48 in.)76.4 mm\n",
      "(3.01 in.)\n",
      "48.5 mm\n",
      "(1.91 in.)\n",
      "51 mm\n",
      "(2.0 in.)51 mm\n",
      "(2.0 in.)\n",
      "76 mm\n",
      "(3.0 in.)2X 1/4-20 UNC\n",
      "Female Mounting\n",
      "Threads\n",
      "180° Apart2X M6X1\n",
      "Female Mounting\n",
      "Threads\n",
      "180° Apart\n",
      "Light Tube\n",
      "PS10 only\n",
      "Note: Detector Surface\n",
      "is 19.0 mm (0.75 in.)\n"
     ]
    }
   ],
   "source": [
    "nodes = raptor_pack.run(\n",
    "    \"What are the specs for a PM10?\", mode=\"tree_traversal\"\n",
    ")\n",
    "print(len(nodes))\n",
    "print(nodes[0].text)"
   ]
  },
  {
   "cell_type": "code",
   "execution_count": 10,
   "id": "827ddb42-3fd4-48bf-8466-f42b0151036a",
   "metadata": {},
   "outputs": [],
   "source": [
    "#Loading -- Since we saved to a vector store, we can also use it again! \n",
    "from llama_index.packs.raptor import RaptorRetriever\n",
    "\n",
    "retriever = RaptorRetriever(\n",
    "    [],\n",
    "    embed_model=OpenAIEmbedding(\n",
    "        model=\"text-embedding-3-small\"\n",
    "    ),  # used for embedding clusters\n",
    "    llm=OpenAI(model=\"gpt-3.5-turbo\", temperature=0.1),  # used for generating summaries\n",
    "    vector_store=vector_store,  # used for storage\n",
    "    similarity_top_k=2,  # top k for each layer, or overall top-k for collapsed\n",
    "    mode=\"tree_traversal\",  # sets default mode\n",
    ")"
   ]
  },
  {
   "cell_type": "code",
   "execution_count": 11,
   "id": "67f32754-e815-4ab5-a85d-6a24d7ea0e04",
   "metadata": {},
   "outputs": [],
   "source": [
    "#Query Engine\n",
    "from llama_index.core.query_engine import RetrieverQueryEngine\n",
    "\n",
    "query_engine = RetrieverQueryEngine.from_args(\n",
    "    raptor_pack.retriever, llm=OpenAI(model=\"gpt-3.5-turbo\", temperature=0.1)\n",
    ")"
   ]
  },
  {
   "cell_type": "code",
   "execution_count": 12,
   "id": "9b2511e0-663d-46d8-b15e-7d8498168a96",
   "metadata": {},
   "outputs": [],
   "source": [
    "response = query_engine.query(\"What are the specs for a PM10?\")"
   ]
  },
  {
   "cell_type": "code",
   "execution_count": 13,
   "id": "e2c2d4bc-39bf-49a8-b90b-76cf6b2d1dcd",
   "metadata": {},
   "outputs": [
    {
     "name": "stdout",
     "output_type": "stream",
     "text": [
      "The specs for a PM10 are as follows: It has a power range of 300 mW to 150 W, with a female mounting thread size of 1/4-20 UNC. The sensor has dimensions of 51 mm (2.0 in.) by 76 mm (3.0 in.) and a detector surface located 7.14 mm (0.28 in.) below the front face of the aperture plate. The PM10 sensor requires a +5VDC power input.\n"
     ]
    }
   ],
   "source": [
    "print(str(response))"
   ]
  },
  {
   "cell_type": "code",
   "execution_count": 16,
   "id": "0ff6160c-67b3-42d2-9cd9-2c72b36900b3",
   "metadata": {},
   "outputs": [],
   "source": [
    "response = query_engine.query(\"I want you to search for specific power sensor models that could be used to measure a 5W laser. Give me the five best options you can find.\")"
   ]
  },
  {
   "cell_type": "code",
   "execution_count": 17,
   "id": "9443d1c1-f2e7-4a48-bb93-4a325804ffd1",
   "metadata": {},
   "outputs": [
    {
     "name": "stdout",
     "output_type": "stream",
     "text": [
      "LM-10, PM3, PM2, PM10, PM30\n"
     ]
    }
   ],
   "source": [
    "print(str(response))"
   ]
  },
  {
   "cell_type": "code",
   "execution_count": null,
   "id": "8df6cbd7-ea38-4d04-b88f-297edc4a84e3",
   "metadata": {},
   "outputs": [],
   "source": []
  }
 ],
 "metadata": {
  "kernelspec": {
   "display_name": "Python 3 (ipykernel)",
   "language": "python",
   "name": "python3"
  },
  "language_info": {
   "codemirror_mode": {
    "name": "ipython",
    "version": 3
   },
   "file_extension": ".py",
   "mimetype": "text/x-python",
   "name": "python",
   "nbconvert_exporter": "python",
   "pygments_lexer": "ipython3",
   "version": "3.10.12"
  }
 },
 "nbformat": 4,
 "nbformat_minor": 5
}
