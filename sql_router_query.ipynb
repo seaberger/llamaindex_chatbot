{
 "cells": [
  {
   "cell_type": "code",
   "execution_count": 1,
   "id": "aec56e58-84cd-493e-af1c-dee27f6ee159",
   "metadata": {},
   "outputs": [],
   "source": [
    "# Access the API through environment variable\n",
    "import os\n",
    "#from dotenv import load_dotenv\n",
    "#load_dotenv()\n",
    "\n",
    "openai_api_key = os.getenv('OPENAI_API_KEY')"
   ]
  },
  {
   "cell_type": "code",
   "execution_count": 2,
   "id": "07a15bae-b363-4f0f-9500-86bd36c370d0",
   "metadata": {},
   "outputs": [],
   "source": [
    "import nest_asyncio\n",
    "nest_asyncio.apply()"
   ]
  },
  {
   "cell_type": "code",
   "execution_count": 3,
   "id": "0438e7e0-695f-44c0-9298-201790f8b9cb",
   "metadata": {},
   "outputs": [],
   "source": [
    "import logging\n",
    "import sys\n",
    "\n",
    "logging.basicConfig(stream=sys.stdout, level=logging.INFO)\n",
    "logging.getLogger().addHandler(logging.StreamHandler(stream=sys.stdout))\n",
    "\n",
    "from llama_index.core import VectorStoreIndex, SQLDatabase\n",
    "from llama_index.readers.wikipedia import WikipediaReader"
   ]
  },
  {
   "cell_type": "code",
   "execution_count": 4,
   "id": "e317b6c2-57cf-4551-8ecc-cedfd25c6e4e",
   "metadata": {},
   "outputs": [],
   "source": [
    "from sqlalchemy import (\n",
    "    create_engine,\n",
    "    MetaData,\n",
    "    ForeignKey,\n",
    "    Table,\n",
    "    Column,\n",
    "    String,\n",
    "    Integer,\n",
    "    select,\n",
    "    column,\n",
    ")\n",
    "\n",
    "from sqlalchemy.orm import declarative_base, relationship"
   ]
  },
  {
   "cell_type": "code",
   "execution_count": 5,
   "id": "6113d6e0-4f7d-4e49-aebe-8e2e4fd91000",
   "metadata": {},
   "outputs": [],
   "source": [
    "engine = create_engine(\"sqlite:///:memory:\", future=True)\n",
    "metadata_obj = MetaData()"
   ]
  },
  {
   "cell_type": "code",
   "execution_count": 6,
   "id": "2da1d0e5-a99a-4d48-8977-d3438478f982",
   "metadata": {},
   "outputs": [],
   "source": [
    "# create city SQL table\n",
    "table_name = \"product\"\n",
    "product_table = Table(\n",
    "    table_name,\n",
    "    metadata_obj,\n",
    "    Column(\"sku\", Integer, primary_key=True),\n",
    "    Column(\"name\", String(100), nullable=False),\n",
    "    Column(\"product_category\", String(30), nullable=False),\n",
    "    Column(\"measurement_type\", String(50), nullable=False),\n",
    "    Column(\"cable_type\", String(30), nullable=False),\n",
    "    extend_existing=True,\n",
    ")\n",
    "\n",
    "table_name = \"specs\"\n",
    "specs_table = Table(\n",
    "    table_name,\n",
    "    metadata_obj,\n",
    "    Column(\"id\", Integer, primary_key=True),  # Auto-incrementing ID\n",
    "    Column(\"sku\", Integer, ForeignKey(\"product.sku\")),\n",
    "    Column(\"spec_value\", String(200)),\n",
    "    Column(\"spec_name\", String(200)),\n",
    "    extend_existing=True,\n",
    ")\n",
    "\n",
    "metadata_obj.create_all(engine)"
   ]
  },
  {
   "cell_type": "code",
   "execution_count": 7,
   "id": "1a4d75cf-6ec1-43af-81ae-e3a1fb002e5f",
   "metadata": {},
   "outputs": [
    {
     "data": {
      "text/plain": [
       "dict_keys(['product', 'specs'])"
      ]
     },
     "execution_count": 7,
     "metadata": {},
     "output_type": "execute_result"
    }
   ],
   "source": [
    "# print tables\n",
    "metadata_obj.tables.keys()"
   ]
  },
  {
   "cell_type": "code",
   "execution_count": 8,
   "id": "c516811d-77b7-4e54-b152-c600288b9133",
   "metadata": {},
   "outputs": [
    {
     "name": "stdout",
     "output_type": "stream",
     "text": [
      "Data loaded into the database successfully.\n"
     ]
    }
   ],
   "source": [
    "import pandas as pd\n",
    "from sqlalchemy import create_engine\n",
    "from pathlib import Path\n",
    "\n",
    "# Assuming 'engine' is already created and connected to your in-memory SQLite database\n",
    "\n",
    "# Define the paths to your Excel files\n",
    "base_path = Path('lmc_specs')  # Adjust this if your notebook's working directory is different\n",
    "product_table_path = base_path / 'product_table.xlsx'\n",
    "spec_table_path = base_path / 'spec_table.xlsx'\n",
    "\n",
    "# Read the Excel files into DataFrames\n",
    "product_df = pd.read_excel(product_table_path)\n",
    "spec_df = pd.read_excel(spec_table_path)\n",
    "\n",
    "# Load the DataFrames into the corresponding tables in the database\n",
    "# If the tables already exist, append the data. Ensure you're using the same 'engine' as before\n",
    "product_df.to_sql('product', con=engine, if_exists='append', index=False, method='multi')\n",
    "spec_df.to_sql('specs', con=engine, if_exists='append', index=False, method='multi')\n",
    "\n",
    "print(\"Data loaded into the database successfully.\")\n"
   ]
  },
  {
   "cell_type": "code",
   "execution_count": 9,
   "id": "592f09e0-e5dc-42c0-bdf2-fcaf9c59366e",
   "metadata": {},
   "outputs": [],
   "source": [
    "sql_database = SQLDatabase(engine, include_tables=[\"product\", \"specs\"])"
   ]
  },
  {
   "cell_type": "code",
   "execution_count": 12,
   "id": "f275de8f-25bc-4855-83af-14cf9e8be094",
   "metadata": {},
   "outputs": [],
   "source": [
    "from llama_index.core.query_engine import NLSQLTableQueryEngine"
   ]
  },
  {
   "cell_type": "code",
   "execution_count": 10,
   "id": "1b36560a-997f-4a04-9397-c76e373a1d61",
   "metadata": {},
   "outputs": [],
   "source": [
    "from llama_index.llms.openai import OpenAI\n",
    "llm = OpenAI(temperature=0.1, model=\"gpt-3.5-turbo\")"
   ]
  },
  {
   "cell_type": "code",
   "execution_count": 13,
   "id": "8be662dd-8f3c-4750-9140-34ddd4aab429",
   "metadata": {},
   "outputs": [],
   "source": [
    "sql_query_engine = NLSQLTableQueryEngine(\n",
    "    sql_database=sql_database,\n",
    "    tables=[\"product\", \"specs\"],\n",
    "    llm=llm\n",
    ")"
   ]
  },
  {
   "cell_type": "code",
   "execution_count": 14,
   "id": "c7190d94-b92f-4aed-9924-0bfa823866a5",
   "metadata": {},
   "outputs": [
    {
     "name": "stdout",
     "output_type": "stream",
     "text": [
      "INFO:llama_index.core.indices.struct_store.sql_retriever:> Table desc str: Table 'product' has columns: sku (INTEGER), name (VARCHAR(100)), product_category (VARCHAR(30)), measurement_type (VARCHAR(50)), cable_type (VARCHAR(30)), and foreign keys: .\n",
      "\n",
      "Table 'specs' has columns: id (INTEGER), sku (INTEGER), spec_value (VARCHAR(200)), spec_name (VARCHAR(200)), and foreign keys: ['sku'] -> product.['sku'].\n",
      "> Table desc str: Table 'product' has columns: sku (INTEGER), name (VARCHAR(100)), product_category (VARCHAR(30)), measurement_type (VARCHAR(50)), cable_type (VARCHAR(30)), and foreign keys: .\n",
      "\n",
      "Table 'specs' has columns: id (INTEGER), sku (INTEGER), spec_value (VARCHAR(200)), spec_name (VARCHAR(200)), and foreign keys: ['sku'] -> product.['sku'].\n",
      "INFO:httpx:HTTP Request: POST https://api.openai.com/v1/chat/completions \"HTTP/1.1 200 OK\"\n",
      "HTTP Request: POST https://api.openai.com/v1/chat/completions \"HTTP/1.1 200 OK\"\n",
      "INFO:httpx:HTTP Request: POST https://api.openai.com/v1/chat/completions \"HTTP/1.1 200 OK\"\n",
      "HTTP Request: POST https://api.openai.com/v1/chat/completions \"HTTP/1.1 200 OK\"\n"
     ]
    }
   ],
   "source": [
    "query_str = \"What are the specs for a PM10?\"\n",
    "response = sql_query_engine.query(query_str)"
   ]
  },
  {
   "cell_type": "code",
   "execution_count": 16,
   "id": "e68cef5c-4a84-49d5-a49d-9dd789b7866c",
   "metadata": {},
   "outputs": [
    {
     "data": {
      "text/markdown": [
       "The specs for a PM10 laser include a maximum energy density of 600 millijoules per square centimeter, a minimum wavelength of 250 nanometers, a maximum wavelength of 11000 nanometers, a minimum power of 0.01 watts, a maximum power of 10 watts, and a cooling type of air. The wavelength range is from 0.25 to 11 micrometers, with a power range of 10 milliwatts to 10 watts. Other specs include a maximum intermittent power of 30 watts for less than 5 minutes, a resolution of 1 milliwatt, and a maximum power density of 6 kilowatts per square centimeter. The PM10 is compatible with various meters and has a cable length of 2 meters."
      ],
      "text/plain": [
       "<IPython.core.display.Markdown object>"
      ]
     },
     "metadata": {},
     "output_type": "display_data"
    }
   ],
   "source": [
    "from IPython.display import Markdown, display\n",
    "display(Markdown(f\"{response}\"))"
   ]
  }
 ],
 "metadata": {
  "kernelspec": {
   "display_name": "Python 3 (ipykernel)",
   "language": "python",
   "name": "python3"
  },
  "language_info": {
   "codemirror_mode": {
    "name": "ipython",
    "version": 3
   },
   "file_extension": ".py",
   "mimetype": "text/x-python",
   "name": "python",
   "nbconvert_exporter": "python",
   "pygments_lexer": "ipython3",
   "version": "3.10.14"
  }
 },
 "nbformat": 4,
 "nbformat_minor": 5
}
