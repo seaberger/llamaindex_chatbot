{
 "cells": [
  {
   "cell_type": "code",
   "execution_count": 45,
   "id": "f7c703a8-2dee-4f97-a961-104748f478ad",
   "metadata": {},
   "outputs": [],
   "source": [
    "#packages needed for notebook\n",
    "#!pip install llama-index\n",
    "#!pip install llama-index-core\n",
    "#!pip install llama-index-embeddings-openai\n",
    "#!pip install llama-index-postprocessor-flag-embedding-reranker\n",
    "#!pip install git+https://github.com/FlagOpen/FlagEmbedding.git\n",
    "#!pip install llama-parse"
   ]
  },
  {
   "cell_type": "code",
   "execution_count": 1,
   "id": "9d9b8919-9211-4269-9088-0c7a45e4f136",
   "metadata": {},
   "outputs": [],
   "source": [
    "# llama-parse is async-first, running the async code in a notebook requires the use of nest_asyncio\n",
    "import nest_asyncio\n",
    "nest_asyncio.apply()"
   ]
  },
  {
   "cell_type": "code",
   "execution_count": 44,
   "id": "aaec78db-9943-464b-aac9-0263f3473dbd",
   "metadata": {},
   "outputs": [],
   "source": [
    "#api keys are loaded from .env file located in notebook directory; with format:\n",
    "#LLAMA_CLOUD_API_KEY=llx-your-llama-cloud-api-key (https://cloud.llamaindex.ai/api-key)\n",
    "#OPENAI_API_KEY=sk-your-openai-key (https://platform.openai.com/api-keys)"
   ]
  },
  {
   "cell_type": "code",
   "execution_count": 2,
   "id": "cb3cc93c-e487-430f-b300-f6aef6034924",
   "metadata": {},
   "outputs": [],
   "source": [
    "# Access the API through environment variable\n",
    "import os\n",
    "from dotenv import load_dotenv\n",
    "load_dotenv()\n",
    "\n",
    "openai_api_key = os.getenv('OPENAI_API_KEY')\n",
    "llama_cloud_api_key = os.getenv('LLAMA_CLOUD_API_KEY')"
   ]
  },
  {
   "cell_type": "code",
   "execution_count": null,
   "id": "122e82c6-49a3-4716-9591-f725977383ee",
   "metadata": {},
   "outputs": [],
   "source": []
  },
  {
   "cell_type": "code",
   "execution_count": 13,
   "id": "7fc80341-4be1-4f87-ac45-ab5ac60040a1",
   "metadata": {},
   "outputs": [],
   "source": [
    "from llama_index.llms.openai import OpenAI\n",
    "from llama_index.embeddings.openai import OpenAIEmbedding\n",
    "from llama_index.core import VectorStoreIndex\n",
    "from llama_index.core import Settings\n",
    "\n",
    "embed_model=OpenAIEmbedding(model=\"text-embedding-3-small\")\n",
    "llm = OpenAI(model=\"gpt-3.5-turbo-0125\")\n",
    "\n",
    "Settings.llm = llm\n",
    "Settings.embed_model = embed_model"
   ]
  },
  {
   "cell_type": "code",
   "execution_count": 4,
   "id": "b6498e5c-785a-40ce-9752-411d84a644dc",
   "metadata": {},
   "outputs": [
    {
     "name": "stdout",
     "output_type": "stream",
     "text": [
      "Started parsing the file under job_id 610d0ae0-f54b-4587-8a45-6fb7abe91c6f\n"
     ]
    }
   ],
   "source": [
    "from llama_parse import LlamaParse\n",
    "from pathlib import Path\n",
    "\n",
    "# This constructs a Path object for the \"data\" directory.\n",
    "data_dir = Path('catalog')\n",
    "\n",
    "# This constructs the full path to the document within the \"data\" directory.\n",
    "file_path = data_dir / 'laser-measurement-and-control-cat.pdf'\n",
    "\n",
    "# Use the constructed path in your method call\n",
    "documents = LlamaParse(result_type=\"markdown\").load_data(file_path)"
   ]
  },
  {
   "cell_type": "code",
   "execution_count": 52,
   "id": "218686b3-e013-45bc-9f00-75d3a8b91f09",
   "metadata": {},
   "outputs": [
    {
     "data": {
      "text/plain": [
       "llama_index.core.schema.Document"
      ]
     },
     "execution_count": 52,
     "metadata": {},
     "output_type": "execute_result"
    }
   ],
   "source": [
    "type(documents[0])"
   ]
  },
  {
   "cell_type": "code",
   "execution_count": null,
   "id": "20a956a2-8056-4e86-bed5-56397f300d22",
   "metadata": {},
   "outputs": [],
   "source": [
    "print(documents[0].text[10000:11000] + '...')"
   ]
  },
  {
   "cell_type": "code",
   "execution_count": 7,
   "id": "7773149d-7f53-41c9-816b-6810295073b1",
   "metadata": {},
   "outputs": [
    {
     "data": {
      "text/plain": [
       "1"
      ]
     },
     "execution_count": 7,
     "metadata": {},
     "output_type": "execute_result"
    }
   ],
   "source": [
    "sum(len(documents) for document in documents)"
   ]
  },
  {
   "cell_type": "code",
   "execution_count": 8,
   "id": "ba5b2225-5e1b-42c8-9083-a5b06919e0ef",
   "metadata": {},
   "outputs": [
    {
     "name": "stdout",
     "output_type": "stream",
     "text": [
      "Number of characters in documents[0]: 282789\n"
     ]
    }
   ],
   "source": [
    "num_characters = len(documents[0].text)\n",
    "print(f\"Number of characters in documents[0]: {num_characters}\")"
   ]
  },
  {
   "cell_type": "code",
   "execution_count": 15,
   "id": "54f813a6-f988-47a5-9cee-74011f8ae166",
   "metadata": {},
   "outputs": [],
   "source": [
    "from llama_index.core.node_parser import MarkdownElementNodeParser"
   ]
  },
  {
   "cell_type": "code",
   "execution_count": 16,
   "id": "57bd01c2-d244-4e3a-a380-cdfe565a58d1",
   "metadata": {},
   "outputs": [],
   "source": [
    "#Splits a markdown document into Text Nodes and Index Nodes corresponding to embedded objects (e.g. tables).\n",
    "node_parser = MarkdownElementNodeParser(llm=OpenAI(model=\"gpt-3.5-turbo-0125\"))"
   ]
  },
  {
   "cell_type": "code",
   "execution_count": 17,
   "id": "3b4454b2-8a36-4de8-ad86-d9f7c1b7bf8c",
   "metadata": {},
   "outputs": [
    {
     "name": "stdout",
     "output_type": "stream",
     "text": [
      "Embeddings have been explicitly disabled. Using MockEmbedding.\n"
     ]
    },
    {
     "name": "stderr",
     "output_type": "stream",
     "text": [
      "223it [00:00, 79251.80it/s]\n",
      "100%|█████████████████████████████████████████████████████████████████████████████████| 223/223 [01:50<00:00,  2.01it/s]\n"
     ]
    }
   ],
   "source": [
    "nodes = node_parser.get_nodes_from_documents(documents)"
   ]
  },
  {
   "cell_type": "code",
   "execution_count": 32,
   "id": "57c6a49f-27dd-48bf-9a62-770e6663c3d7",
   "metadata": {},
   "outputs": [
    {
     "name": "stdout",
     "output_type": "stream",
     "text": [
      "629\n"
     ]
    }
   ],
   "source": [
    "print(len(nodes))"
   ]
  },
  {
   "cell_type": "code",
   "execution_count": null,
   "id": "b1dc2401-add6-41a6-af17-e682ead29ad5",
   "metadata": {},
   "outputs": [],
   "source": [
    "print(nodes[300].text[:500] + '...')"
   ]
  },
  {
   "cell_type": "code",
   "execution_count": 19,
   "id": "36450c38-e915-4278-9dd3-0debdfb6d49f",
   "metadata": {},
   "outputs": [],
   "source": [
    "base_nodes, objects = node_parser.get_nodes_and_objects(nodes)"
   ]
  },
  {
   "cell_type": "code",
   "execution_count": 20,
   "id": "db89110d-e860-4d4f-81e5-753ae7391412",
   "metadata": {},
   "outputs": [],
   "source": [
    "recursive_index = VectorStoreIndex(nodes=base_nodes+objects)\n",
    "raw_index = VectorStoreIndex.from_documents(documents)"
   ]
  },
  {
   "cell_type": "code",
   "execution_count": 55,
   "id": "4bd44826-ccf6-4aad-88e4-833b2d5033a1",
   "metadata": {},
   "outputs": [],
   "source": [
    "import os.path\n",
    "from llama_index.core import (\n",
    "    VectorStoreIndex,\n",
    "    SimpleDirectoryReader,\n",
    "    StorageContext,\n",
    "    load_index_from_storage,\n",
    ")\n",
    "persist_dir_recursive = \"./storage/adv_cat/recursive\"\n",
    "persist_dir_raw = \"./storage/adv_cat/raw\"\n",
    "\n",
    "# store index for later\n",
    "recursive_index.storage_context.persist(persist_dir=persist_dir_recursive)\n",
    "raw_index.storage_context.persist(persist_dir=persist_dir_raw)"
   ]
  },
  {
   "cell_type": "code",
   "execution_count": 56,
   "id": "84efaf5f-1ac9-4f4f-ad07-1c447b4879b2",
   "metadata": {},
   "outputs": [],
   "source": [
    "# load the index\n",
    "storage_context_recursive = StorageContext.from_defaults(persist_dir=persist_dir_recursive)\n",
    "storage_context_raw = StorageContext.from_defaults(persist_dir=persist_dir_raw)\n",
    "recursive_index = load_index_from_storage(storage_context_recursive)\n",
    "raw_index = load_index_from_storage(storage_context_raw)"
   ]
  },
  {
   "cell_type": "code",
   "execution_count": 57,
   "id": "4d404909-d2be-4660-b798-dde78c1104e5",
   "metadata": {},
   "outputs": [],
   "source": [
    "from llama_index.postprocessor.flag_embedding_reranker import FlagEmbeddingReranker\n",
    "\n",
    "reranker = FlagEmbeddingReranker(\n",
    "    top_n=5,\n",
    "    model=\"BAAI/bge-reranker-large\",\n",
    ")\n",
    "\n",
    "recursive_query_engine = recursive_index.as_query_engine(\n",
    "    similarity_top_k=15, \n",
    "    node_postprocessors=[reranker], \n",
    "    verbose=True\n",
    ")\n",
    "\n",
    "raw_query_engine = raw_index.as_query_engine(similarity_top_k=15, node_postprocessors=[reranker])"
   ]
  },
  {
   "cell_type": "code",
   "execution_count": 58,
   "id": "332ecf02-c1ac-454e-b0b8-1015c2f7154e",
   "metadata": {},
   "outputs": [
    {
     "name": "stdout",
     "output_type": "stream",
     "text": [
      "\n",
      "***********New LlamaParse+ Basic Query Engine***********\n",
      "What power range can a PM10 measure?\n",
      "Answer: 5 mW to 10 W\n",
      "\u001b[1;3;38;2;11;159;203mRetrieval entering id_c6bdc0b3-387b-4b48-848a-8e08dc3e64cb_453_table: TextNode\n",
      "\u001b[0m\u001b[1;3;38;2;237;90;200mRetrieving from object TextNode with query What power range can a PM10 measure?\n",
      "\u001b[0m\u001b[1;3;38;2;11;159;203mRetrieval entering id_c6bdc0b3-387b-4b48-848a-8e08dc3e64cb_447_table: TextNode\n",
      "\u001b[0m\u001b[1;3;38;2;237;90;200mRetrieving from object TextNode with query What power range can a PM10 measure?\n",
      "\u001b[0m\u001b[1;3;38;2;11;159;203mRetrieval entering id_c6bdc0b3-387b-4b48-848a-8e08dc3e64cb_479_table: TextNode\n",
      "\u001b[0m\u001b[1;3;38;2;237;90;200mRetrieving from object TextNode with query What power range can a PM10 measure?\n",
      "\u001b[0m\u001b[1;3;38;2;11;159;203mRetrieval entering id_c6bdc0b3-387b-4b48-848a-8e08dc3e64cb_437_table: TextNode\n",
      "\u001b[0m\u001b[1;3;38;2;237;90;200mRetrieving from object TextNode with query What power range can a PM10 measure?\n",
      "\u001b[0m\n",
      "***********New LlamaParse+ Recursive Retriever Query Engine***********\n",
      "10 mW to 10 W\n"
     ]
    }
   ],
   "source": [
    "query = \"What power range can a PM10 measure?\"\n",
    "\n",
    "response_1 = raw_query_engine.query(query)\n",
    "print(\"\\n***********New LlamaParse+ Basic Query Engine***********\")\n",
    "print(response_1)\n",
    "\n",
    "response_2 = recursive_query_engine.query(query)\n",
    "print(\"\\n***********New LlamaParse+ Recursive Retriever Query Engine***********\")\n",
    "print(response_2)"
   ]
  },
  {
   "cell_type": "code",
   "execution_count": 59,
   "id": "e478b52a-93c0-4b84-8e8c-4df1eba59218",
   "metadata": {},
   "outputs": [
    {
     "name": "stdout",
     "output_type": "stream",
     "text": [
      "\n",
      "***********New LlamaParse+ Basic Query Engine***********\n",
      "The different cable types available for a PM10 sensor are PM DB-25 and Power.\n",
      "\u001b[1;3;38;2;11;159;203mRetrieval entering id_c6bdc0b3-387b-4b48-848a-8e08dc3e64cb_447_table: TextNode\n",
      "\u001b[0m\u001b[1;3;38;2;237;90;200mRetrieving from object TextNode with query What different cable types are available for a PM10 sensor?\n",
      "\u001b[0m\u001b[1;3;38;2;11;159;203mRetrieval entering id_c6bdc0b3-387b-4b48-848a-8e08dc3e64cb_581_table: TextNode\n",
      "\u001b[0m\u001b[1;3;38;2;237;90;200mRetrieving from object TextNode with query What different cable types are available for a PM10 sensor?\n",
      "\u001b[0m\u001b[1;3;38;2;11;159;203mRetrieval entering id_c6bdc0b3-387b-4b48-848a-8e08dc3e64cb_389_table: TextNode\n",
      "\u001b[0m\u001b[1;3;38;2;237;90;200mRetrieving from object TextNode with query What different cable types are available for a PM10 sensor?\n",
      "\u001b[0m\u001b[1;3;38;2;11;159;203mRetrieval entering id_c6bdc0b3-387b-4b48-848a-8e08dc3e64cb_445_table: TextNode\n",
      "\u001b[0m\u001b[1;3;38;2;237;90;200mRetrieving from object TextNode with query What different cable types are available for a PM10 sensor?\n",
      "\u001b[0m\u001b[1;3;38;2;11;159;203mRetrieval entering id_c6bdc0b3-387b-4b48-848a-8e08dc3e64cb_385_table: TextNode\n",
      "\u001b[0m\u001b[1;3;38;2;237;90;200mRetrieving from object TextNode with query What different cable types are available for a PM10 sensor?\n",
      "\u001b[0m\u001b[1;3;38;2;11;159;203mRetrieval entering id_c6bdc0b3-387b-4b48-848a-8e08dc3e64cb_479_table: TextNode\n",
      "\u001b[0m\u001b[1;3;38;2;237;90;200mRetrieving from object TextNode with query What different cable types are available for a PM10 sensor?\n",
      "\u001b[0m\u001b[1;3;38;2;11;159;203mRetrieval entering id_c6bdc0b3-387b-4b48-848a-8e08dc3e64cb_453_table: TextNode\n",
      "\u001b[0m\u001b[1;3;38;2;237;90;200mRetrieving from object TextNode with query What different cable types are available for a PM10 sensor?\n",
      "\u001b[0m\u001b[1;3;38;2;11;159;203mRetrieval entering id_c6bdc0b3-387b-4b48-848a-8e08dc3e64cb_437_table: TextNode\n",
      "\u001b[0m\u001b[1;3;38;2;237;90;200mRetrieving from object TextNode with query What different cable types are available for a PM10 sensor?\n",
      "\u001b[0m\u001b[1;3;38;2;11;159;203mRetrieval entering id_c6bdc0b3-387b-4b48-848a-8e08dc3e64cb_585_table: TextNode\n",
      "\u001b[0m\u001b[1;3;38;2;237;90;200mRetrieving from object TextNode with query What different cable types are available for a PM10 sensor?\n",
      "\u001b[0m\u001b[1;3;38;2;11;159;203mRetrieval entering id_c6bdc0b3-387b-4b48-848a-8e08dc3e64cb_583_table: TextNode\n",
      "\u001b[0m\u001b[1;3;38;2;237;90;200mRetrieving from object TextNode with query What different cable types are available for a PM10 sensor?\n",
      "\u001b[0m\n",
      "***********New LlamaParse+ Recursive Retriever Query Engine***********\n",
      "PM DB-25\n"
     ]
    }
   ],
   "source": [
    "query = \"What different cable types are available for a PM10 sensor?\"\n",
    "\n",
    "response_1 = raw_query_engine.query(query)\n",
    "print(\"\\n***********New LlamaParse+ Basic Query Engine***********\")\n",
    "print(response_1)\n",
    "\n",
    "response_2 = recursive_query_engine.query(query)\n",
    "print(\"\\n***********New LlamaParse+ Recursive Retriever Query Engine***********\")\n",
    "print(response_2)"
   ]
  },
  {
   "cell_type": "code",
   "execution_count": 25,
   "id": "046dca06-8e3f-4ab8-aa01-9b990e7cca07",
   "metadata": {},
   "outputs": [
    {
     "name": "stdout",
     "output_type": "stream",
     "text": [
      "\n",
      "***********New LlamaParse+ Basic Query Engine***********\n",
      "LM-3, LM-10, and LM-45 would be the best three choices of power sensors to measure a 5W 1064nm laser with a 5mm beam diameter.\n",
      "\n",
      "***********New LlamaParse+ Recursive Retriever Query Engine***********\n",
      "PowerMax - Laser Power Sensors with a power range of 5 µW to 140 mW, featuring a large 8 mm and 10 mm apertures and high-sensitivity Silicon photodiode would be suitable for measuring a 5W 1064nm laser with a 5mm beam diameter. The PowerMax-USB UV/VIS Quantum sensors, which incorporate a Silicon photodiode, would also be a good choice. Additionally, the PowerMax-Pro sensor with a power range of 100 mW to 150 W could be considered for this measurement.\n"
     ]
    }
   ],
   "source": [
    "query = \"What are the best three choices of power sensors to measure a 5W 1064nm laser with a 5mm beam diameter?\"\n",
    "\n",
    "response_1 = raw_query_engine.query(query)\n",
    "print(\"\\n***********New LlamaParse+ Basic Query Engine***********\")\n",
    "print(response_1)\n",
    "\n",
    "response_2 = recursive_query_engine.query(query)\n",
    "print(\"\\n***********New LlamaParse+ Recursive Retriever Query Engine***********\")\n",
    "print(response_2)"
   ]
  },
  {
   "cell_type": "code",
   "execution_count": 26,
   "id": "34487ee6-b46e-4502-a05e-4c578d15d389",
   "metadata": {},
   "outputs": [
    {
     "name": "stdout",
     "output_type": "stream",
     "text": [
      "\n",
      "***********New LlamaParse+ Basic Query Engine***********\n",
      "The specifications for a PM10 are as follows:\n",
      "- Wavelength Range: 0.25 to 3 µm\n",
      "- Power Range: 10 mW to 10 W\n",
      "- Maximum Intermittent Power (<5 min.): 15 W\n",
      "- Resolution: 1 mW\n",
      "- Maximum Power Density: 50 W/cm2\n",
      "- Maximum Energy Density: 2 J/cm2 at 1064 nm, 10 ns\n",
      "- Response Time: 3 sec.\n",
      "- Detector Coating: Volume Absorbing\n",
      "- Active Area Diameter: 19 mm\n",
      "- Calibration Uncertainty: ±1%\n",
      "- Calibration Wavelength: 514 nm\n",
      "- Cooling Method: Air-cooled\n",
      "- Cable Type: PM DB-25\n",
      "- Cable Length: 2 m\n",
      "- Part Number: 1098338\n",
      "\u001b[1;3;38;2;11;159;203mRetrieval entering id_c6bdc0b3-387b-4b48-848a-8e08dc3e64cb_453_table: TextNode\n",
      "\u001b[0m\u001b[1;3;38;2;237;90;200mRetrieving from object TextNode with query What are the specs for a PM10?\n",
      "\u001b[0m\u001b[1;3;38;2;11;159;203mRetrieval entering id_c6bdc0b3-387b-4b48-848a-8e08dc3e64cb_447_table: TextNode\n",
      "\u001b[0m\u001b[1;3;38;2;237;90;200mRetrieving from object TextNode with query What are the specs for a PM10?\n",
      "\u001b[0m\u001b[1;3;38;2;11;159;203mRetrieval entering id_c6bdc0b3-387b-4b48-848a-8e08dc3e64cb_569_table: TextNode\n",
      "\u001b[0m\u001b[1;3;38;2;237;90;200mRetrieving from object TextNode with query What are the specs for a PM10?\n",
      "\u001b[0m\u001b[1;3;38;2;11;159;203mRetrieval entering id_c6bdc0b3-387b-4b48-848a-8e08dc3e64cb_583_table: TextNode\n",
      "\u001b[0m\u001b[1;3;38;2;237;90;200mRetrieving from object TextNode with query What are the specs for a PM10?\n",
      "\u001b[0m\u001b[1;3;38;2;11;159;203mRetrieval entering id_c6bdc0b3-387b-4b48-848a-8e08dc3e64cb_385_table: TextNode\n",
      "\u001b[0m\u001b[1;3;38;2;237;90;200mRetrieving from object TextNode with query What are the specs for a PM10?\n",
      "\u001b[0m\u001b[1;3;38;2;11;159;203mRetrieval entering id_c6bdc0b3-387b-4b48-848a-8e08dc3e64cb_479_table: TextNode\n",
      "\u001b[0m\u001b[1;3;38;2;237;90;200mRetrieving from object TextNode with query What are the specs for a PM10?\n",
      "\u001b[0m\u001b[1;3;38;2;11;159;203mRetrieval entering id_c6bdc0b3-387b-4b48-848a-8e08dc3e64cb_461_table: TextNode\n",
      "\u001b[0m\u001b[1;3;38;2;237;90;200mRetrieving from object TextNode with query What are the specs for a PM10?\n",
      "\u001b[0m\u001b[1;3;38;2;11;159;203mRetrieval entering id_c6bdc0b3-387b-4b48-848a-8e08dc3e64cb_455_table: TextNode\n",
      "\u001b[0m\u001b[1;3;38;2;237;90;200mRetrieving from object TextNode with query What are the specs for a PM10?\n",
      "\u001b[0m\u001b[1;3;38;2;11;159;203mRetrieval entering id_c6bdc0b3-387b-4b48-848a-8e08dc3e64cb_361_table: TextNode\n",
      "\u001b[0m\u001b[1;3;38;2;237;90;200mRetrieving from object TextNode with query What are the specs for a PM10?\n",
      "\u001b[0m\u001b[1;3;38;2;11;159;203mRetrieval entering id_c6bdc0b3-387b-4b48-848a-8e08dc3e64cb_393_table: TextNode\n",
      "\u001b[0m\u001b[1;3;38;2;237;90;200mRetrieving from object TextNode with query What are the specs for a PM10?\n",
      "\u001b[0m\u001b[1;3;38;2;11;159;203mRetrieval entering id_c6bdc0b3-387b-4b48-848a-8e08dc3e64cb_389_table: TextNode\n",
      "\u001b[0m\u001b[1;3;38;2;237;90;200mRetrieving from object TextNode with query What are the specs for a PM10?\n",
      "\u001b[0m\u001b[1;3;38;2;11;159;203mRetrieval entering id_c6bdc0b3-387b-4b48-848a-8e08dc3e64cb_451_table: TextNode\n",
      "\u001b[0m\u001b[1;3;38;2;237;90;200mRetrieving from object TextNode with query What are the specs for a PM10?\n",
      "\u001b[0m\u001b[1;3;38;2;11;159;203mRetrieval entering id_c6bdc0b3-387b-4b48-848a-8e08dc3e64cb_359_table: TextNode\n",
      "\u001b[0m\u001b[1;3;38;2;237;90;200mRetrieving from object TextNode with query What are the specs for a PM10?\n",
      "\u001b[0m\u001b[1;3;38;2;11;159;203mRetrieval entering id_c6bdc0b3-387b-4b48-848a-8e08dc3e64cb_445_table: TextNode\n",
      "\u001b[0m\u001b[1;3;38;2;237;90;200mRetrieving from object TextNode with query What are the specs for a PM10?\n",
      "\u001b[0m\n",
      "***********New LlamaParse+ Recursive Retriever Query Engine***********\n",
      "Wavelength Range (µm): 0.25 to 11\n",
      "Power Range: 10 mW to 2 W\n",
      "ISO/IEC 17025:2005: Long-Pulse Joules Range (J): 0.5 to 2\n",
      "Maximum Intermittent Power (<5 min.) (W): 5\n",
      "Resolution (mW): 1\n",
      "Maximum Power Density (kW/cm2): 6\n",
      "Maximum Energy Density (mJ/cm2): 600, 1064 nm, 10 ns\n",
      "Response Time (sec.): 2\n",
      "Detector Coating: Broadband\n",
      "Active Area Diameter (mm): 19\n",
      "Calibration Uncertainty (%) (k=2): ±1\n",
      "Calibration Wavelength (nm): 514\n",
      "Cooling Method: Air-cooled\n",
      "Cable Type: PM DB-25, Power\n",
      "Cable Length (m): 2\n",
      "Part Number: 1098329**\n"
     ]
    }
   ],
   "source": [
    "query = \"What are the specs for a PM10?\"\n",
    "\n",
    "response_1 = raw_query_engine.query(query)\n",
    "print(\"\\n***********New LlamaParse+ Basic Query Engine***********\")\n",
    "print(response_1)\n",
    "\n",
    "response_2 = recursive_query_engine.query(query)\n",
    "print(\"\\n***********New LlamaParse+ Recursive Retriever Query Engine***********\")\n",
    "print(response_2)"
   ]
  },
  {
   "cell_type": "code",
   "execution_count": 27,
   "id": "087df0a7-7037-466a-b76a-563add09792d",
   "metadata": {},
   "outputs": [
    {
     "name": "stdout",
     "output_type": "stream",
     "text": [
      "\n",
      "***********New LlamaParse+ Basic Query Engine***********\n",
      "A PowerMax-USB UV/VIS sensor would be more appropriate for measuring a 5 Watt laser.\n",
      "\u001b[1;3;38;2;11;159;203mRetrieval entering id_c6bdc0b3-387b-4b48-848a-8e08dc3e64cb_249_table: TextNode\n",
      "\u001b[0m\u001b[1;3;38;2;237;90;200mRetrieving from object TextNode with query Using the power sensor spec tables, which would be more appropriate for measuring a 5 Watt laser: A PowerMax-USB UV/VIS or a PM10?\n",
      "\u001b[0m\n",
      "***********New LlamaParse+ Recursive Retriever Query Engine***********\n",
      "PowerMax-USB UV/VIS would be more appropriate for measuring a 5 Watt laser.\n"
     ]
    }
   ],
   "source": [
    "query = \"Using the power sensor spec tables, which would be more appropriate for measuring a 5 Watt laser: A PowerMax-USB UV/VIS or a PM10?\"\n",
    "\n",
    "response_1 = raw_query_engine.query(query)\n",
    "print(\"\\n***********New LlamaParse+ Basic Query Engine***********\")\n",
    "print(response_1)\n",
    "\n",
    "response_2 = recursive_query_engine.query(query)\n",
    "print(\"\\n***********New LlamaParse+ Recursive Retriever Query Engine***********\")\n",
    "print(response_2)"
   ]
  },
  {
   "cell_type": "code",
   "execution_count": 29,
   "id": "41393e74-6847-4a58-86cf-4d41216728cd",
   "metadata": {},
   "outputs": [
    {
     "name": "stdout",
     "output_type": "stream",
     "text": [
      "\n",
      "***********New LlamaParse+ Basic Query Engine***********\n",
      "The PowerMax-USB UV/VIS sensor would be more appropriate for measuring a 5 Watt laser than a PM10 because the PowerMax-USB UV/VIS sensor has a higher power range that includes the 5 Watt laser power level. The PowerMax-USB UV/VIS sensor is designed to measure power from 10 nW up to 50 mW, while the PM10 sensor is designed for a power range of 10 mW to 30 W, which does not cover the 5 Watt power level.\n",
      "\u001b[1;3;38;2;11;159;203mRetrieval entering id_c6bdc0b3-387b-4b48-848a-8e08dc3e64cb_249_table: TextNode\n",
      "\u001b[0m\u001b[1;3;38;2;237;90;200mRetrieving from object TextNode with query Using the power sensor spec tables, why would you think that a PowerMax-USB UV/VIS is more appropriate for measuring a 5 Watt laser than a PM10?\n",
      "\u001b[0m\n",
      "***********New LlamaParse+ Recursive Retriever Query Engine***********\n",
      "The PowerMax-USB UV/VIS sensor is more appropriate for measuring a 5 Watt laser than a PM10 because the PowerMax-USB UV/VIS sensor has a power range that includes measurements from 5 µW to several hundred milliwatts, while the PM10 sensor is designed for average power measurements on pulsed and CW lasers from 10 mW up to 30 W. Therefore, the PowerMax-USB UV/VIS sensor covers the power range of a 5 Watt laser more accurately compared to the PM10 sensor.\n"
     ]
    }
   ],
   "source": [
    "query = \"Using the power sensor spec tables, why would you think that a PowerMax-USB UV/VIS is more appropriate for measuring a 5 Watt laser than a PM10?\"\n",
    "\n",
    "response_1 = raw_query_engine.query(query)\n",
    "print(\"\\n***********New LlamaParse+ Basic Query Engine***********\")\n",
    "print(response_1)\n",
    "\n",
    "response_2 = recursive_query_engine.query(query)\n",
    "print(\"\\n***********New LlamaParse+ Recursive Retriever Query Engine***********\")\n",
    "print(response_2)"
   ]
  },
  {
   "cell_type": "code",
   "execution_count": 30,
   "id": "07dba065-c227-49d7-ad79-60888e62f5e6",
   "metadata": {},
   "outputs": [
    {
     "name": "stdout",
     "output_type": "stream",
     "text": [
      "\n",
      "***********New LlamaParse+ Basic Query Engine***********\n",
      "Wavelength Range: 325 nm to 1065 nm  \n",
      "Power Range: 5 µW to >100 mW  \n",
      "Noise Equivalent Power: 100 nW  \n",
      "Maximum Power Density: 20 W/cm2  \n",
      "Response Time: Speed-up On: 0.1 sec. (UV/VIS), 0.5 sec. (Wand UV/VIS)  \n",
      "Detector Element: Silicon photodiode  \n",
      "Detector Diameter: 10 mm (UV/VIS), 8 mm (Wand UV/VIS)  \n",
      "Calibration Uncertainty: ±1%  \n",
      "Power Linearity: ±1% (UV/VIS), Powe (Wand UV/VIS)  \n",
      "Spectral Compensation Accuracy: ±4% (325 to 900 nm), ±5% (900 to 1065 nm)  \n",
      "Calibration Wavelength: 514 nm  \n",
      "Cooling Method: Air  \n",
      "Cable Type: USB  \n",
      "Cable Length: 2.5 m  \n",
      "Part Numbers: 1168337 (UV/VIS), 1299161 (Wand UV/VIS)\n",
      "\u001b[1;3;38;2;11;159;203mRetrieval entering id_c6bdc0b3-387b-4b48-848a-8e08dc3e64cb_249_table: TextNode\n",
      "\u001b[0m\u001b[1;3;38;2;237;90;200mRetrieving from object TextNode with query What are the specs for the PowerMax-USB UV/VIS?\n",
      "\u001b[0m\u001b[1;3;38;2;11;159;203mRetrieval entering id_c6bdc0b3-387b-4b48-848a-8e08dc3e64cb_219_table: TextNode\n",
      "\u001b[0m\u001b[1;3;38;2;237;90;200mRetrieving from object TextNode with query What are the specs for the PowerMax-USB UV/VIS?\n",
      "\u001b[0m\u001b[1;3;38;2;11;159;203mRetrieval entering id_c6bdc0b3-387b-4b48-848a-8e08dc3e64cb_213_table: TextNode\n",
      "\u001b[0m\u001b[1;3;38;2;237;90;200mRetrieving from object TextNode with query What are the specs for the PowerMax-USB UV/VIS?\n",
      "\u001b[0m\n",
      "***********New LlamaParse+ Recursive Retriever Query Engine***********\n",
      "PowerMax-USB UV/VIS sensors have a power range from 5 µW to several hundred milliwatts, feature a direct USB interface, large 8 mm and 10 mm apertures, high-sensitivity Silicon photodiode, and spectral response from 325 nm to 1065 nm. They incorporate spectrally calibrated filters to attenuate the laser beam for higher average power measurements and work with CW as well as pulsed sources greater than 100 pps. The sensors have a removable nose cone for reducing stray light and a thin profile metal enclosure for fitting into tight locations.\n"
     ]
    }
   ],
   "source": [
    "query = \"What are the specs for the PowerMax-USB UV/VIS?\"\n",
    "\n",
    "response_1 = raw_query_engine.query(query)\n",
    "print(\"\\n***********New LlamaParse+ Basic Query Engine***********\")\n",
    "print(response_1)\n",
    "\n",
    "response_2 = recursive_query_engine.query(query)\n",
    "print(\"\\n***********New LlamaParse+ Recursive Retriever Query Engine***********\")\n",
    "print(response_2)"
   ]
  },
  {
   "cell_type": "code",
   "execution_count": null,
   "id": "9f5bff53-c9a7-44b3-a412-112a0e2c1f97",
   "metadata": {},
   "outputs": [],
   "source": []
  }
 ],
 "metadata": {
  "kernelspec": {
   "display_name": "Python 3 (ipykernel)",
   "language": "python",
   "name": "python3"
  },
  "language_info": {
   "codemirror_mode": {
    "name": "ipython",
    "version": 3
   },
   "file_extension": ".py",
   "mimetype": "text/x-python",
   "name": "python",
   "nbconvert_exporter": "python",
   "pygments_lexer": "ipython3",
   "version": "3.10.14"
  }
 },
 "nbformat": 4,
 "nbformat_minor": 5
}
