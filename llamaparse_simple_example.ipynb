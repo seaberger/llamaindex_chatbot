{
 "cells": [
  {
   "cell_type": "code",
   "execution_count": 1,
   "id": "da4eba22-e4f1-4175-91fc-f4f02e5af838",
   "metadata": {},
   "outputs": [],
   "source": [
    "# llama-parse is async-first, running the async code in a notebook requires the use of nest_asyncio\n",
    "import nest_asyncio\n",
    "nest_asyncio.apply()"
   ]
  },
  {
   "cell_type": "code",
   "execution_count": 5,
   "id": "419b6227-b64f-4eaa-b7ff-32ab51d4e56c",
   "metadata": {},
   "outputs": [],
   "source": [
    "# Access the API through environment variable\n",
    "import os\n",
    "#from dotenv import load_dotenv\n",
    "#load_dotenv()\n",
    "\n",
    "#openai_api_key = os.getenv('OPENAI_API_KEY')\n",
    "llama_cloud_api_key = os.environ('LLAMA_CLOUD_API_KEY')"
   ]
  },
  {
   "cell_type": "code",
   "execution_count": 8,
   "id": "d8997beb-d1a3-4529-9b1a-df6ce162975e",
   "metadata": {},
   "outputs": [
    {
     "name": "stdout",
     "output_type": "stream",
     "text": [
      "Started parsing the file under job_id 374e7a72-6ec1-4da9-b4c2-39a14e1b22d1\n"
     ]
    }
   ],
   "source": [
    "from llama_parse import LlamaParse\n",
    "from pathlib import Path\n",
    "\n",
    "# This constructs a Path object for the \"data\" directory.\n",
    "data_dir = Path('data')\n",
    "\n",
    "# This constructs the full path to \"attention.pdf\" within the \"data\" directory.\n",
    "file_path = data_dir / 'attention.pdf'\n",
    "\n",
    "# Use the constructed path in your method call\n",
    "documents = LlamaParse(result_type=\"text\").load_data(file_path)"
   ]
  },
  {
   "cell_type": "code",
   "execution_count": 9,
   "id": "6f784eef-f106-4e49-9677-37a988928e0b",
   "metadata": {},
   "outputs": [
    {
     "name": "stdout",
     "output_type": "stream",
     "text": [
      "ad\n",
      "relying entirely on an attention mechanism to draw global dependencies between input and output.\n",
      "The Transformer allows for significantly more parallelization and can reach a new state of the art in\n",
      "translation quality after being trained for as little as twelve hours on eight P100 GPUs.\n",
      "2    Background\n",
      "The goal of reducing sequential computation also forms the foundation of the Extended Neural GPU\n",
      "[16], ByteNet [18] and ConvS2S [9], all of which use convolutional neural networks as basic building\n",
      "block, computing hidden representations in parallel for all input and output positions. In these models,\n",
      "the number of operations required to relate signals from two arbitrary input or output positions grows\n",
      "in the distance between positions, linearly for ConvS2S and logarithmically for ByteNet. This makes\n",
      "it more difficult to learn dependencies between distant positions [12]. In the Transformer this is\n",
      "reduced to a constant number of operations, albeit at the cost of reduced effective res\n"
     ]
    }
   ],
   "source": [
    "print(documents[0].text[6000:7000])"
   ]
  },
  {
   "cell_type": "code",
   "execution_count": 10,
   "id": "9ae2d32e-26a6-4534-a6e6-bace059cfce0",
   "metadata": {},
   "outputs": [
    {
     "name": "stdout",
     "output_type": "stream",
     "text": [
      "Started parsing the file under job_id b49ae956-3b62-4229-9f65-0d504741450d\n"
     ]
    }
   ],
   "source": [
    "documents_2 = LlamaParse(result_type=\"markdown\").load_data(file_path)"
   ]
  },
  {
   "cell_type": "code",
   "execution_count": 12,
   "id": "34aa1e0b-21ee-4c02-894a-cf6ce0ae46fd",
   "metadata": {},
   "outputs": [
    {
     "name": "stdout",
     "output_type": "stream",
     "text": [
      "self-attention could yield more interpretable models. We inspect attention distributions from our models and present and discuss examples in the appendix. Not only do individual attention heads clearly learn to perform different tasks, many appear to exhibit behavior related to the syntactic and semantic structure of the sentences.\n",
      "\n",
      "## Training\n",
      "\n",
      "This section describes the training regime for our models.\n",
      "\n",
      "### Training Data and Batching\n",
      "\n",
      "We trained on the standard WMT 2014 English-German dataset consisting of about 4.5 million sentence pairs. Sentences were encoded using byte-pair encoding [3], which has a shared source-target vocabulary of about 37000 tokens. For English-French, we used the significantly larger WMT 2014 English-French dataset consisting of 36M sentences and split tokens into a 32000 word-piece vocabulary [38]. Sentence pairs were batched together by approximate sequence length. Each training batch contained a set of sentence pairs containing approximately 25000 source t...\n"
     ]
    }
   ],
   "source": [
    "print(documents_2[0].text[20000:21000] + \"...\")"
   ]
  },
  {
   "cell_type": "code",
   "execution_count": null,
   "id": "b7fd310f-6081-4295-a4f7-b86bb62738bc",
   "metadata": {},
   "outputs": [],
   "source": []
  }
 ],
 "metadata": {
  "kernelspec": {
   "display_name": "Python 3 (ipykernel)",
   "language": "python",
   "name": "python3"
  },
  "language_info": {
   "codemirror_mode": {
    "name": "ipython",
    "version": 3
   },
   "file_extension": ".py",
   "mimetype": "text/x-python",
   "name": "python",
   "nbconvert_exporter": "python",
   "pygments_lexer": "ipython3",
   "version": "3.10.14"
  }
 },
 "nbformat": 4,
 "nbformat_minor": 5
}
